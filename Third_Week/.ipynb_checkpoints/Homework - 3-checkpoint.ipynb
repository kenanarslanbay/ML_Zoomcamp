{
 "cells": [
  {
   "cell_type": "code",
   "execution_count": 1,
   "id": "a6411fe5",
   "metadata": {},
   "outputs": [
    {
     "data": {
      "text/html": [
       "<style>.container { width:99% !important; }</style>"
      ],
      "text/plain": [
       "<IPython.core.display.HTML object>"
      ]
     },
     "metadata": {},
     "output_type": "display_data"
    }
   ],
   "source": [
    "import pandas as pd\n",
    "import numpy as np\n",
    "import matplotlib.pyplot as plt\n",
    "import seaborn as sns\n",
    "\n",
    "import warnings\n",
    "warnings.filterwarnings('ignore')\n",
    "\n",
    "from sklearn.model_selection import train_test_split\n",
    "from sklearn.metrics import mutual_info_score\n",
    "from sklearn.feature_extraction import DictVectorizer\n",
    "from sklearn.linear_model import LinearRegression,LogisticRegression\n",
    "\n",
    "\n",
    "# All plots can be displayed on notebooks:\n",
    "%matplotlib inline\n",
    "\n",
    "# Make better use of Jupyter Notebook cell width\n",
    "\n",
    "from IPython.core.display import display, HTML\n",
    "display(HTML(\"<style>.container { width:99% !important; }</style>\"))\n",
    "pd.options.display.float_format = '{:.2f}'.format"
   ]
  },
  {
   "cell_type": "code",
   "execution_count": 2,
   "id": "8f6e2402",
   "metadata": {},
   "outputs": [
    {
     "name": "stdout",
     "output_type": "stream",
     "text": [
      "--2022-10-09 15:56:01--  https://raw.githubusercontent.com/alexeygrigorev/datasets/master/housing.csv\n",
      "Resolving raw.githubusercontent.com (raw.githubusercontent.com)... 185.199.109.133, 185.199.108.133, 185.199.110.133, ...\n",
      "Connecting to raw.githubusercontent.com (raw.githubusercontent.com)|185.199.109.133|:443... connected.\n",
      "HTTP request sent, awaiting response... 200 OK\n",
      "Length: 1423529 (1,4M) [text/plain]\n",
      "Saving to: ‘housing.csv.4’\n",
      "\n",
      "housing.csv.4       100%[===================>]   1,36M  2,80MB/s    in 0,5s    \n",
      "\n",
      "2022-10-09 15:56:02 (2,80 MB/s) - ‘housing.csv.4’ saved [1423529/1423529]\n",
      "\n"
     ]
    }
   ],
   "source": [
    "# First getting data:\n",
    "\n",
    "!wget https://raw.githubusercontent.com/alexeygrigorev/datasets/master/housing.csv\n",
    "    \n",
    "df = pd.read_csv('housing.csv')"
   ]
  },
  {
   "cell_type": "markdown",
   "id": "1b2e1efe",
   "metadata": {},
   "source": [
    "# Data preparation\n",
    "- Select only the features from above and fill in the missing values with 0.\n",
    "- Create a new column rooms_per_household by dividing the column total_rooms by the column households from dataframe.\n",
    "- Create a new column bedrooms_per_room by dividing the column total_bedrooms by the column total_rooms from dataframe.\n",
    "- Create a new column population_per_household by dividing the column population by the column households from dataframe."
   ]
  },
  {
   "cell_type": "code",
   "execution_count": 3,
   "id": "166829d6",
   "metadata": {},
   "outputs": [],
   "source": [
    "features = ['latitude',\n",
    "'longitude',\n",
    "'housing_median_age',\n",
    "'total_rooms',\n",
    "'total_bedrooms',\n",
    "'population',\n",
    "'households',\n",
    "'median_income',\n",
    "'median_house_value',\n",
    "'ocean_proximity']\n",
    "\n",
    "df = df[features]"
   ]
  },
  {
   "cell_type": "code",
   "execution_count": 4,
   "id": "017c06b2",
   "metadata": {},
   "outputs": [],
   "source": [
    "# Initial cleaning:\n",
    "\n",
    "df.columns = df.columns.str.lower().str.replace(' ','_')\n",
    "\n",
    "categorical_cols = list(df.dtypes[df.dtypes == 'object'].index)\n",
    "numeric_cols = list(df.dtypes[df.dtypes != 'object'].index)\n",
    "\n",
    "for c in categorical_cols:\n",
    "    df[c] = df[c].str.lower().str.replace(' ','_')"
   ]
  },
  {
   "cell_type": "code",
   "execution_count": 5,
   "id": "bc90f672",
   "metadata": {},
   "outputs": [
    {
     "data": {
      "text/plain": [
       "['ocean_proximity']"
      ]
     },
     "execution_count": 5,
     "metadata": {},
     "output_type": "execute_result"
    }
   ],
   "source": [
    "categorical_cols"
   ]
  },
  {
   "cell_type": "code",
   "execution_count": 6,
   "id": "c97fd0bf",
   "metadata": {},
   "outputs": [
    {
     "data": {
      "text/plain": [
       "['latitude',\n",
       " 'longitude',\n",
       " 'housing_median_age',\n",
       " 'total_rooms',\n",
       " 'total_bedrooms',\n",
       " 'population',\n",
       " 'households',\n",
       " 'median_income',\n",
       " 'median_house_value']"
      ]
     },
     "execution_count": 6,
     "metadata": {},
     "output_type": "execute_result"
    }
   ],
   "source": [
    "numeric_cols"
   ]
  },
  {
   "cell_type": "code",
   "execution_count": 10,
   "id": "0b5716f1",
   "metadata": {},
   "outputs": [],
   "source": [
    "# Filling missing values with zero:\n",
    "df = df.fillna(0)"
   ]
  },
  {
   "cell_type": "code",
   "execution_count": 11,
   "id": "e5298524",
   "metadata": {},
   "outputs": [
    {
     "data": {
      "text/plain": [
       "latitude               0\n",
       "longitude              0\n",
       "housing_median_age     0\n",
       "total_rooms            0\n",
       "total_bedrooms         0\n",
       "population             0\n",
       "households             0\n",
       "median_income          0\n",
       "median_house_value     0\n",
       "ocean_proximity        0\n",
       "rooms_per_household    0\n",
       "bedrooms_per_room      0\n",
       "dtype: int64"
      ]
     },
     "execution_count": 11,
     "metadata": {},
     "output_type": "execute_result"
    }
   ],
   "source": [
    "df.isnull().sum()"
   ]
  },
  {
   "cell_type": "code",
   "execution_count": 12,
   "id": "5368f393",
   "metadata": {},
   "outputs": [],
   "source": [
    "df['rooms_per_household'] = df['total_rooms'] / df['households']\n",
    "df['bedrooms_per_room'] = df['total_bedrooms'] / df['total_rooms']\n",
    "df['population'] = df['population'] / df['households']"
   ]
  },
  {
   "cell_type": "markdown",
   "id": "0b72e9e9",
   "metadata": {},
   "source": [
    "# Question - 1 : What is the most frequent observation (mode) for the column ocean_proximity?"
   ]
  },
  {
   "cell_type": "code",
   "execution_count": 13,
   "id": "ee1dbc88",
   "metadata": {},
   "outputs": [
    {
     "data": {
      "text/plain": [
       "0    <1h_ocean\n",
       "Name: ocean_proximity, dtype: object"
      ]
     },
     "execution_count": 13,
     "metadata": {},
     "output_type": "execute_result"
    }
   ],
   "source": [
    "df['ocean_proximity'].mode()"
   ]
  },
  {
   "cell_type": "markdown",
   "id": "7fbf111e",
   "metadata": {},
   "source": [
    "# Question -2 : Create the correlation matrix for the numerical features of your train dataset.\n",
    "- In a correlation matrix, you compute the correlation coefficient between every pair of features in the dataset.\n",
    "- What are the two features that have the biggest correlation in this dataset?"
   ]
  },
  {
   "cell_type": "code",
   "execution_count": 22,
   "id": "8908d848",
   "metadata": {},
   "outputs": [],
   "source": [
    "mean = df.median_house_value.mean()\n",
    "df['above_average'] = df['median_house_value'].map(lambda x: 1 if x>mean else 0)"
   ]
  },
  {
   "cell_type": "code",
   "execution_count": 28,
   "id": "38f23b55",
   "metadata": {},
   "outputs": [],
   "source": [
    "del df['median_house_value']"
   ]
  },
  {
   "cell_type": "code",
   "execution_count": 29,
   "id": "3af77e79",
   "metadata": {},
   "outputs": [],
   "source": [
    "# Splitting data to train,validation and test set:\n",
    "\n",
    "df_full_train, df_test = train_test_split(df,test_size=0.2,random_state=42)\n",
    "\n",
    "# Further splitting of training and validation data:\n",
    "\n",
    "df_train, df_val = train_test_split(df_full_train,test_size=0.25,random_state=42)"
   ]
  },
  {
   "cell_type": "code",
   "execution_count": 30,
   "id": "cbb25d9d",
   "metadata": {},
   "outputs": [],
   "source": [
    "df_train = df_train.reset_index(drop=True)\n",
    "df_val = df_val.reset_index(drop=True)\n",
    "df_test = df_test.reset_index(drop=True)"
   ]
  },
  {
   "cell_type": "code",
   "execution_count": 32,
   "id": "3ce1b02f",
   "metadata": {},
   "outputs": [
    {
     "data": {
      "text/plain": [
       "(12384, 4128, 4128)"
      ]
     },
     "execution_count": 32,
     "metadata": {},
     "output_type": "execute_result"
    }
   ],
   "source": [
    "len(df_train),len(df_val),len(df_test)"
   ]
  },
  {
   "cell_type": "code",
   "execution_count": 33,
   "id": "1c1ee9eb",
   "metadata": {},
   "outputs": [],
   "source": [
    "y_train = df_train.above_average.values\n",
    "y_val = df_val.above_average.values\n",
    "y_test = df_test.above_average.values"
   ]
  },
  {
   "cell_type": "code",
   "execution_count": 37,
   "id": "fe004e62",
   "metadata": {},
   "outputs": [
    {
     "data": {
      "text/html": [
       "<div>\n",
       "<style scoped>\n",
       "    .dataframe tbody tr th:only-of-type {\n",
       "        vertical-align: middle;\n",
       "    }\n",
       "\n",
       "    .dataframe tbody tr th {\n",
       "        vertical-align: top;\n",
       "    }\n",
       "\n",
       "    .dataframe thead th {\n",
       "        text-align: right;\n",
       "    }\n",
       "</style>\n",
       "<table border=\"1\" class=\"dataframe\">\n",
       "  <thead>\n",
       "    <tr style=\"text-align: right;\">\n",
       "      <th></th>\n",
       "      <th>latitude</th>\n",
       "      <th>longitude</th>\n",
       "      <th>housing_median_age</th>\n",
       "      <th>total_rooms</th>\n",
       "      <th>total_bedrooms</th>\n",
       "      <th>population</th>\n",
       "      <th>households</th>\n",
       "      <th>median_income</th>\n",
       "      <th>ocean_proximity</th>\n",
       "      <th>rooms_per_household</th>\n",
       "      <th>bedrooms_per_room</th>\n",
       "      <th>above_average</th>\n",
       "    </tr>\n",
       "  </thead>\n",
       "  <tbody>\n",
       "    <tr>\n",
       "      <th>14196</th>\n",
       "      <td>32.71</td>\n",
       "      <td>-117.03</td>\n",
       "      <td>33.00</td>\n",
       "      <td>3126.00</td>\n",
       "      <td>627.00</td>\n",
       "      <td>0.01</td>\n",
       "      <td>623.00</td>\n",
       "      <td>3.26</td>\n",
       "      <td>near_ocean</td>\n",
       "      <td>5.02</td>\n",
       "      <td>0.20</td>\n",
       "      <td>0</td>\n",
       "    </tr>\n",
       "    <tr>\n",
       "      <th>8267</th>\n",
       "      <td>33.77</td>\n",
       "      <td>-118.16</td>\n",
       "      <td>49.00</td>\n",
       "      <td>3382.00</td>\n",
       "      <td>787.00</td>\n",
       "      <td>0.00</td>\n",
       "      <td>756.00</td>\n",
       "      <td>3.81</td>\n",
       "      <td>near_ocean</td>\n",
       "      <td>4.47</td>\n",
       "      <td>0.23</td>\n",
       "      <td>1</td>\n",
       "    </tr>\n",
       "    <tr>\n",
       "      <th>17445</th>\n",
       "      <td>34.66</td>\n",
       "      <td>-120.48</td>\n",
       "      <td>4.00</td>\n",
       "      <td>1897.00</td>\n",
       "      <td>331.00</td>\n",
       "      <td>0.01</td>\n",
       "      <td>336.00</td>\n",
       "      <td>4.16</td>\n",
       "      <td>near_ocean</td>\n",
       "      <td>5.65</td>\n",
       "      <td>0.17</td>\n",
       "      <td>0</td>\n",
       "    </tr>\n",
       "    <tr>\n",
       "      <th>14265</th>\n",
       "      <td>32.69</td>\n",
       "      <td>-117.11</td>\n",
       "      <td>36.00</td>\n",
       "      <td>1421.00</td>\n",
       "      <td>367.00</td>\n",
       "      <td>0.01</td>\n",
       "      <td>355.00</td>\n",
       "      <td>1.94</td>\n",
       "      <td>near_ocean</td>\n",
       "      <td>4.00</td>\n",
       "      <td>0.26</td>\n",
       "      <td>0</td>\n",
       "    </tr>\n",
       "    <tr>\n",
       "      <th>2271</th>\n",
       "      <td>36.78</td>\n",
       "      <td>-119.80</td>\n",
       "      <td>43.00</td>\n",
       "      <td>2382.00</td>\n",
       "      <td>431.00</td>\n",
       "      <td>0.01</td>\n",
       "      <td>380.00</td>\n",
       "      <td>3.55</td>\n",
       "      <td>inland</td>\n",
       "      <td>6.27</td>\n",
       "      <td>0.18</td>\n",
       "      <td>0</td>\n",
       "    </tr>\n",
       "    <tr>\n",
       "      <th>...</th>\n",
       "      <td>...</td>\n",
       "      <td>...</td>\n",
       "      <td>...</td>\n",
       "      <td>...</td>\n",
       "      <td>...</td>\n",
       "      <td>...</td>\n",
       "      <td>...</td>\n",
       "      <td>...</td>\n",
       "      <td>...</td>\n",
       "      <td>...</td>\n",
       "      <td>...</td>\n",
       "      <td>...</td>\n",
       "    </tr>\n",
       "    <tr>\n",
       "      <th>11284</th>\n",
       "      <td>33.78</td>\n",
       "      <td>-117.96</td>\n",
       "      <td>35.00</td>\n",
       "      <td>1330.00</td>\n",
       "      <td>201.00</td>\n",
       "      <td>0.01</td>\n",
       "      <td>217.00</td>\n",
       "      <td>6.37</td>\n",
       "      <td>&lt;1h_ocean</td>\n",
       "      <td>6.13</td>\n",
       "      <td>0.15</td>\n",
       "      <td>1</td>\n",
       "    </tr>\n",
       "    <tr>\n",
       "      <th>11964</th>\n",
       "      <td>34.02</td>\n",
       "      <td>-117.43</td>\n",
       "      <td>33.00</td>\n",
       "      <td>3084.00</td>\n",
       "      <td>570.00</td>\n",
       "      <td>0.01</td>\n",
       "      <td>449.00</td>\n",
       "      <td>3.05</td>\n",
       "      <td>inland</td>\n",
       "      <td>6.87</td>\n",
       "      <td>0.18</td>\n",
       "      <td>0</td>\n",
       "    </tr>\n",
       "    <tr>\n",
       "      <th>5390</th>\n",
       "      <td>34.03</td>\n",
       "      <td>-118.38</td>\n",
       "      <td>36.00</td>\n",
       "      <td>2101.00</td>\n",
       "      <td>569.00</td>\n",
       "      <td>0.01</td>\n",
       "      <td>527.00</td>\n",
       "      <td>2.93</td>\n",
       "      <td>&lt;1h_ocean</td>\n",
       "      <td>3.99</td>\n",
       "      <td>0.27</td>\n",
       "      <td>1</td>\n",
       "    </tr>\n",
       "    <tr>\n",
       "      <th>860</th>\n",
       "      <td>37.58</td>\n",
       "      <td>-121.96</td>\n",
       "      <td>15.00</td>\n",
       "      <td>3575.00</td>\n",
       "      <td>597.00</td>\n",
       "      <td>0.01</td>\n",
       "      <td>559.00</td>\n",
       "      <td>5.72</td>\n",
       "      <td>&lt;1h_ocean</td>\n",
       "      <td>6.40</td>\n",
       "      <td>0.17</td>\n",
       "      <td>1</td>\n",
       "    </tr>\n",
       "    <tr>\n",
       "      <th>15795</th>\n",
       "      <td>37.77</td>\n",
       "      <td>-122.42</td>\n",
       "      <td>52.00</td>\n",
       "      <td>4226.00</td>\n",
       "      <td>1315.00</td>\n",
       "      <td>0.00</td>\n",
       "      <td>1242.00</td>\n",
       "      <td>2.58</td>\n",
       "      <td>near_bay</td>\n",
       "      <td>3.40</td>\n",
       "      <td>0.31</td>\n",
       "      <td>1</td>\n",
       "    </tr>\n",
       "  </tbody>\n",
       "</table>\n",
       "<p>16512 rows × 12 columns</p>\n",
       "</div>"
      ],
      "text/plain": [
       "       latitude  longitude  housing_median_age  total_rooms  total_bedrooms  \\\n",
       "14196     32.71    -117.03               33.00      3126.00          627.00   \n",
       "8267      33.77    -118.16               49.00      3382.00          787.00   \n",
       "17445     34.66    -120.48                4.00      1897.00          331.00   \n",
       "14265     32.69    -117.11               36.00      1421.00          367.00   \n",
       "2271      36.78    -119.80               43.00      2382.00          431.00   \n",
       "...         ...        ...                 ...          ...             ...   \n",
       "11284     33.78    -117.96               35.00      1330.00          201.00   \n",
       "11964     34.02    -117.43               33.00      3084.00          570.00   \n",
       "5390      34.03    -118.38               36.00      2101.00          569.00   \n",
       "860       37.58    -121.96               15.00      3575.00          597.00   \n",
       "15795     37.77    -122.42               52.00      4226.00         1315.00   \n",
       "\n",
       "       population  households  median_income ocean_proximity  \\\n",
       "14196        0.01      623.00           3.26      near_ocean   \n",
       "8267         0.00      756.00           3.81      near_ocean   \n",
       "17445        0.01      336.00           4.16      near_ocean   \n",
       "14265        0.01      355.00           1.94      near_ocean   \n",
       "2271         0.01      380.00           3.55          inland   \n",
       "...           ...         ...            ...             ...   \n",
       "11284        0.01      217.00           6.37       <1h_ocean   \n",
       "11964        0.01      449.00           3.05          inland   \n",
       "5390         0.01      527.00           2.93       <1h_ocean   \n",
       "860          0.01      559.00           5.72       <1h_ocean   \n",
       "15795        0.00     1242.00           2.58        near_bay   \n",
       "\n",
       "       rooms_per_household  bedrooms_per_room  above_average  \n",
       "14196                 5.02               0.20              0  \n",
       "8267                  4.47               0.23              1  \n",
       "17445                 5.65               0.17              0  \n",
       "14265                 4.00               0.26              0  \n",
       "2271                  6.27               0.18              0  \n",
       "...                    ...                ...            ...  \n",
       "11284                 6.13               0.15              1  \n",
       "11964                 6.87               0.18              0  \n",
       "5390                  3.99               0.27              1  \n",
       "860                   6.40               0.17              1  \n",
       "15795                 3.40               0.31              1  \n",
       "\n",
       "[16512 rows x 12 columns]"
      ]
     },
     "execution_count": 37,
     "metadata": {},
     "output_type": "execute_result"
    }
   ],
   "source": [
    "df_full_train"
   ]
  },
  {
   "cell_type": "code",
   "execution_count": 41,
   "id": "9447f9cc",
   "metadata": {},
   "outputs": [],
   "source": [
    "#numeric_cols.remove('median_house_value')"
   ]
  },
  {
   "cell_type": "code",
   "execution_count": 47,
   "id": "0044d114",
   "metadata": {},
   "outputs": [
    {
     "data": {
      "text/plain": [
       "latitude            latitude             1.00\n",
       "longitude           longitude            1.00\n",
       "households          households           1.00\n",
       "population          population           1.00\n",
       "total_bedrooms      total_bedrooms       1.00\n",
       "total_rooms         total_rooms          1.00\n",
       "housing_median_age  housing_median_age   1.00\n",
       "median_income       median_income        1.00\n",
       "total_bedrooms      households           0.97\n",
       "households          total_bedrooms       0.97\n",
       "total_bedrooms      total_rooms          0.92\n",
       "total_rooms         total_bedrooms       0.92\n",
       "households          total_rooms          0.92\n",
       "total_rooms         households           0.92\n",
       "median_income       total_rooms          0.20\n",
       "dtype: float64"
      ]
     },
     "execution_count": 47,
     "metadata": {},
     "output_type": "execute_result"
    }
   ],
   "source": [
    "# Correlation for numerical features:\n",
    "df[numeric_cols].corr().unstack().sort_values(ascending=False)[:15]"
   ]
  },
  {
   "cell_type": "code",
   "execution_count": 48,
   "id": "75bb1f8e",
   "metadata": {},
   "outputs": [],
   "source": [
    "# total_bedrooms      households  0.97"
   ]
  },
  {
   "cell_type": "markdown",
   "id": "8583a20a",
   "metadata": {},
   "source": [
    "# Question 3\n",
    "- Calculate the mutual information score between above_average and ocean_proximity . Use the training set only.\n",
    "- Round it to 2 decimals using round(score, 2)\n",
    "- What is their mutual information score?"
   ]
  },
  {
   "cell_type": "code",
   "execution_count": 70,
   "id": "350170ae",
   "metadata": {},
   "outputs": [
    {
     "data": {
      "text/html": [
       "<div>\n",
       "<style scoped>\n",
       "    .dataframe tbody tr th:only-of-type {\n",
       "        vertical-align: middle;\n",
       "    }\n",
       "\n",
       "    .dataframe tbody tr th {\n",
       "        vertical-align: top;\n",
       "    }\n",
       "\n",
       "    .dataframe thead th {\n",
       "        text-align: right;\n",
       "    }\n",
       "</style>\n",
       "<table border=\"1\" class=\"dataframe\">\n",
       "  <thead>\n",
       "    <tr style=\"text-align: right;\">\n",
       "      <th></th>\n",
       "      <th>MI</th>\n",
       "    </tr>\n",
       "  </thead>\n",
       "  <tbody>\n",
       "    <tr>\n",
       "      <th>ocean_proximity</th>\n",
       "      <td>0.10</td>\n",
       "    </tr>\n",
       "  </tbody>\n",
       "</table>\n",
       "</div>"
      ],
      "text/plain": [
       "                  MI\n",
       "ocean_proximity 0.10"
      ]
     },
     "execution_count": 70,
     "metadata": {},
     "output_type": "execute_result"
    }
   ],
   "source": [
    "#@ PREPARING DATASET:\n",
    "cat = ['ocean_proximity']\n",
    "\n",
    "#@ DEFINING FUNCTION:\n",
    "def calculate_mi(series):\n",
    "    return mutual_info_score(series, df_train.above_average)\n",
    "\n",
    "#@ IMPLEMENTATION:\n",
    "df_mi = df_train[cat].apply(calculate_mi)\n",
    "df_mi = df_mi.sort_values(ascending=False).to_frame(name='MI')\n",
    "df_mi"
   ]
  },
  {
   "cell_type": "code",
   "execution_count": 110,
   "id": "ab364bfc",
   "metadata": {},
   "outputs": [
    {
     "data": {
      "text/html": [
       "<div>\n",
       "<style scoped>\n",
       "    .dataframe tbody tr th:only-of-type {\n",
       "        vertical-align: middle;\n",
       "    }\n",
       "\n",
       "    .dataframe tbody tr th {\n",
       "        vertical-align: top;\n",
       "    }\n",
       "\n",
       "    .dataframe thead th {\n",
       "        text-align: right;\n",
       "    }\n",
       "</style>\n",
       "<table border=\"1\" class=\"dataframe\">\n",
       "  <thead>\n",
       "    <tr style=\"text-align: right;\">\n",
       "      <th></th>\n",
       "      <th>MI</th>\n",
       "    </tr>\n",
       "  </thead>\n",
       "  <tbody>\n",
       "    <tr>\n",
       "      <th>ocean_proximity</th>\n",
       "      <td>0.10</td>\n",
       "    </tr>\n",
       "  </tbody>\n",
       "</table>\n",
       "</div>"
      ],
      "text/plain": [
       "                  MI\n",
       "ocean_proximity 0.10"
      ]
     },
     "execution_count": 110,
     "metadata": {},
     "output_type": "execute_result"
    }
   ],
   "source": [
    "df_mi.round(2)"
   ]
  },
  {
   "cell_type": "code",
   "execution_count": 75,
   "id": "a6c1b8ad",
   "metadata": {},
   "outputs": [],
   "source": [
    "def mutual_calculator(series):\n",
    "    return mutual_info_score(series, df_train.above_average)"
   ]
  },
  {
   "cell_type": "code",
   "execution_count": 78,
   "id": "57190c79",
   "metadata": {},
   "outputs": [],
   "source": [
    "mutual_info_score?"
   ]
  },
  {
   "cell_type": "markdown",
   "id": "351196ab",
   "metadata": {},
   "source": [
    "# Question 4\n",
    "- Now let's train a logistic regression\n",
    "- Remember that we have one categorical variable ocean_proximity in the data. Include it using one-hot encoding.\n",
    "- Fit the model on the training dataset.\n",
    "- To make sure the results are reproducible across different versions of Scikit-Learn, fit the model with these parameters:\n",
    "- model = LogisticRegression(solver=\"liblinear\", C=1.0, max_iter=1000, random_state=42)\n",
    "- Calculate the accuracy on the validation dataset and round it to 2 decimal digits."
   ]
  },
  {
   "cell_type": "code",
   "execution_count": 104,
   "id": "7a4ae651",
   "metadata": {},
   "outputs": [
    {
     "data": {
      "text/html": [
       "<div>\n",
       "<style scoped>\n",
       "    .dataframe tbody tr th:only-of-type {\n",
       "        vertical-align: middle;\n",
       "    }\n",
       "\n",
       "    .dataframe tbody tr th {\n",
       "        vertical-align: top;\n",
       "    }\n",
       "\n",
       "    .dataframe thead th {\n",
       "        text-align: right;\n",
       "    }\n",
       "</style>\n",
       "<table border=\"1\" class=\"dataframe\">\n",
       "  <thead>\n",
       "    <tr style=\"text-align: right;\">\n",
       "      <th></th>\n",
       "      <th>latitude</th>\n",
       "      <th>longitude</th>\n",
       "      <th>housing_median_age</th>\n",
       "      <th>total_rooms</th>\n",
       "      <th>total_bedrooms</th>\n",
       "      <th>population</th>\n",
       "      <th>households</th>\n",
       "      <th>median_income</th>\n",
       "      <th>ocean_proximity</th>\n",
       "      <th>rooms_per_household</th>\n",
       "      <th>bedrooms_per_room</th>\n",
       "      <th>above_average</th>\n",
       "    </tr>\n",
       "  </thead>\n",
       "  <tbody>\n",
       "    <tr>\n",
       "      <th>0</th>\n",
       "      <td>34.43</td>\n",
       "      <td>-119.67</td>\n",
       "      <td>39.00</td>\n",
       "      <td>1467.00</td>\n",
       "      <td>381.00</td>\n",
       "      <td>0.01</td>\n",
       "      <td>374.00</td>\n",
       "      <td>2.37</td>\n",
       "      <td>&lt;1h_ocean</td>\n",
       "      <td>3.92</td>\n",
       "      <td>0.26</td>\n",
       "      <td>1</td>\n",
       "    </tr>\n",
       "    <tr>\n",
       "      <th>1</th>\n",
       "      <td>33.74</td>\n",
       "      <td>-118.32</td>\n",
       "      <td>24.00</td>\n",
       "      <td>6097.00</td>\n",
       "      <td>794.00</td>\n",
       "      <td>0.00</td>\n",
       "      <td>806.00</td>\n",
       "      <td>10.14</td>\n",
       "      <td>near_ocean</td>\n",
       "      <td>7.56</td>\n",
       "      <td>0.13</td>\n",
       "      <td>1</td>\n",
       "    </tr>\n",
       "    <tr>\n",
       "      <th>2</th>\n",
       "      <td>39.13</td>\n",
       "      <td>-121.62</td>\n",
       "      <td>41.00</td>\n",
       "      <td>1317.00</td>\n",
       "      <td>309.00</td>\n",
       "      <td>0.01</td>\n",
       "      <td>337.00</td>\n",
       "      <td>1.67</td>\n",
       "      <td>inland</td>\n",
       "      <td>3.91</td>\n",
       "      <td>0.23</td>\n",
       "      <td>0</td>\n",
       "    </tr>\n",
       "  </tbody>\n",
       "</table>\n",
       "</div>"
      ],
      "text/plain": [
       "   latitude  longitude  housing_median_age  total_rooms  total_bedrooms  \\\n",
       "0     34.43    -119.67               39.00      1467.00          381.00   \n",
       "1     33.74    -118.32               24.00      6097.00          794.00   \n",
       "2     39.13    -121.62               41.00      1317.00          309.00   \n",
       "\n",
       "   population  households  median_income ocean_proximity  rooms_per_household  \\\n",
       "0        0.01      374.00           2.37       <1h_ocean                 3.92   \n",
       "1        0.00      806.00          10.14      near_ocean                 7.56   \n",
       "2        0.01      337.00           1.67          inland                 3.91   \n",
       "\n",
       "   bedrooms_per_room  above_average  \n",
       "0               0.26              1  \n",
       "1               0.13              1  \n",
       "2               0.23              0  "
      ]
     },
     "execution_count": 104,
     "metadata": {},
     "output_type": "execute_result"
    }
   ],
   "source": [
    "df_train.head(3)"
   ]
  },
  {
   "cell_type": "code",
   "execution_count": 105,
   "id": "c57d5f37",
   "metadata": {},
   "outputs": [],
   "source": [
    "#@ PREPARING THE DATASET:\n",
    "df_train = df_train.drop('above_average', axis=1)\n",
    "df_val = df_val.drop('above_average', axis=1)\n",
    "df_test = df_test.drop('above_average', axis=1)"
   ]
  },
  {
   "cell_type": "code",
   "execution_count": 112,
   "id": "af0976a8",
   "metadata": {},
   "outputs": [
    {
     "data": {
      "text/plain": [
       "Index(['latitude', 'longitude', 'housing_median_age', 'total_rooms',\n",
       "       'total_bedrooms', 'population', 'households', 'median_income',\n",
       "       'ocean_proximity', 'rooms_per_household', 'bedrooms_per_room'],\n",
       "      dtype='object')"
      ]
     },
     "execution_count": 112,
     "metadata": {},
     "output_type": "execute_result"
    }
   ],
   "source": [
    "df_train.columns"
   ]
  },
  {
   "cell_type": "code",
   "execution_count": 114,
   "id": "1b1478a0",
   "metadata": {},
   "outputs": [],
   "source": [
    "cat = categorical_cols\n",
    "num = ['latitude', 'longitude', 'housing_median_age', 'total_rooms',\n",
    "       'total_bedrooms', 'population', 'households', 'median_income',\n",
    "       'ocean_proximity', 'rooms_per_household', 'bedrooms_per_room']"
   ]
  },
  {
   "cell_type": "code",
   "execution_count": 115,
   "id": "46c9fbcc",
   "metadata": {},
   "outputs": [],
   "source": [
    "train_dicts = df_train[cat + num].to_dict(orient='records')"
   ]
  },
  {
   "cell_type": "code",
   "execution_count": 116,
   "id": "39d06038",
   "metadata": {},
   "outputs": [
    {
     "data": {
      "text/plain": [
       "{'ocean_proximity': '<1h_ocean',\n",
       " 'latitude': 34.43,\n",
       " 'longitude': -119.67,\n",
       " 'housing_median_age': 39.0,\n",
       " 'total_rooms': 1467.0,\n",
       " 'total_bedrooms': 381.0,\n",
       " 'population': 0.010037461751837342,\n",
       " 'households': 374.0,\n",
       " 'median_income': 2.3681,\n",
       " 'rooms_per_household': 3.9224598930481283,\n",
       " 'bedrooms_per_room': 0.25971370143149286}"
      ]
     },
     "execution_count": 116,
     "metadata": {},
     "output_type": "execute_result"
    }
   ],
   "source": [
    "train_dicts[0]"
   ]
  },
  {
   "cell_type": "code",
   "execution_count": 87,
   "id": "6f404646",
   "metadata": {},
   "outputs": [],
   "source": [
    "dv = DictVectorizer(sparse=False)"
   ]
  },
  {
   "cell_type": "code",
   "execution_count": 95,
   "id": "93ea77a7",
   "metadata": {},
   "outputs": [],
   "source": [
    "X_train = dv.fit_transform(train_dicts)"
   ]
  },
  {
   "cell_type": "code",
   "execution_count": 100,
   "id": "68c8fa0c",
   "metadata": {},
   "outputs": [
    {
     "data": {
      "text/plain": [
       "(12384, 13)"
      ]
     },
     "execution_count": 100,
     "metadata": {},
     "output_type": "execute_result"
    }
   ],
   "source": [
    "X_train.shape"
   ]
  },
  {
   "cell_type": "code",
   "execution_count": 97,
   "id": "122b3f3e",
   "metadata": {},
   "outputs": [],
   "source": [
    "# Same for validation set:\n",
    "val_dicts = df_val[categorical_cols + numeric_cols].to_dict(orient='records')"
   ]
  },
  {
   "cell_type": "code",
   "execution_count": 99,
   "id": "37106165",
   "metadata": {},
   "outputs": [],
   "source": [
    "X_val = dv.transform(val_dicts)"
   ]
  },
  {
   "cell_type": "code",
   "execution_count": 101,
   "id": "2ab8f45d",
   "metadata": {},
   "outputs": [
    {
     "data": {
      "text/plain": [
       "(4128, 13)"
      ]
     },
     "execution_count": 101,
     "metadata": {},
     "output_type": "execute_result"
    }
   ],
   "source": [
    "X_val.shape"
   ]
  },
  {
   "cell_type": "code",
   "execution_count": 102,
   "id": "af93da02",
   "metadata": {},
   "outputs": [],
   "source": [
    "# Model:\n",
    "model = LogisticRegression(solver=\"liblinear\", C=1.0, max_iter=1000, random_state=42)\n",
    "model.fit(X_train,y_train)"
   ]
  },
  {
   "cell_type": "code",
   "execution_count": null,
   "id": "87c3ad1b",
   "metadata": {},
   "outputs": [],
   "source": []
  }
 ],
 "metadata": {
  "kernelspec": {
   "display_name": "Python [conda env:ML_Zoomcamp]",
   "language": "python",
   "name": "conda-env-ML_Zoomcamp-py"
  },
  "language_info": {
   "codemirror_mode": {
    "name": "ipython",
    "version": 3
   },
   "file_extension": ".py",
   "mimetype": "text/x-python",
   "name": "python",
   "nbconvert_exporter": "python",
   "pygments_lexer": "ipython3",
   "version": "3.10.4"
  }
 },
 "nbformat": 4,
 "nbformat_minor": 5
}
