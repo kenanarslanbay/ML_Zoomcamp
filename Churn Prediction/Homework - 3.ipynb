{
 "cells": [
  {
   "cell_type": "code",
   "execution_count": 1,
   "id": "a6411fe5",
   "metadata": {},
   "outputs": [
    {
     "data": {
      "text/html": [
       "<style>.container { width:99% !important; }</style>"
      ],
      "text/plain": [
       "<IPython.core.display.HTML object>"
      ]
     },
     "metadata": {},
     "output_type": "display_data"
    }
   ],
   "source": [
    "import pandas as pd\n",
    "import numpy as np\n",
    "import matplotlib.pyplot as plt\n",
    "import seaborn as sns\n",
    "\n",
    "import warnings\n",
    "warnings.filterwarnings('ignore')\n",
    "\n",
    "from sklearn.model_selection import train_test_split\n",
    "from sklearn.metrics import mutual_info_score\n",
    "from sklearn.feature_extraction import DictVectorizer\n",
    "from sklearn.linear_model import LinearRegression,LogisticRegression\n",
    "\n",
    "\n",
    "# All plots can be displayed on notebooks:\n",
    "%matplotlib inline\n",
    "\n",
    "# Make better use of Jupyter Notebook cell width\n",
    "\n",
    "from IPython.core.display import display, HTML\n",
    "display(HTML(\"<style>.container { width:99% !important; }</style>\"))\n",
    "pd.options.display.float_format = '{:.2f}'.format"
   ]
  },
  {
   "cell_type": "code",
   "execution_count": 2,
   "id": "8f6e2402",
   "metadata": {},
   "outputs": [
    {
     "name": "stdout",
     "output_type": "stream",
     "text": [
      "--2022-10-10 11:04:29--  https://raw.githubusercontent.com/alexeygrigorev/datasets/master/housing.csv\n",
      "Resolving raw.githubusercontent.com (raw.githubusercontent.com)... 185.199.108.133, 185.199.111.133, 185.199.110.133, ...\n",
      "Connecting to raw.githubusercontent.com (raw.githubusercontent.com)|185.199.108.133|:443... connected.\n",
      "HTTP request sent, awaiting response... 200 OK\n",
      "Length: 1423529 (1,4M) [text/plain]\n",
      "Saving to: ‘housing.csv’\n",
      "\n",
      "housing.csv         100%[===================>]   1,36M  1,82MB/s    in 0,7s    \n",
      "\n",
      "2022-10-10 11:04:31 (1,82 MB/s) - ‘housing.csv’ saved [1423529/1423529]\n",
      "\n"
     ]
    }
   ],
   "source": [
    "# First getting data:\n",
    "\n",
    "!wget https://raw.githubusercontent.com/alexeygrigorev/datasets/master/housing.csv\n",
    "    \n",
    "df = pd.read_csv('housing.csv')"
   ]
  },
  {
   "cell_type": "markdown",
   "id": "1b2e1efe",
   "metadata": {},
   "source": [
    "# Data preparation\n",
    "- Select only the features from above and fill in the missing values with 0.\n",
    "- Create a new column rooms_per_household by dividing the column total_rooms by the column households from dataframe.\n",
    "- Create a new column bedrooms_per_room by dividing the column total_bedrooms by the column total_rooms from dataframe.\n",
    "- Create a new column population_per_household by dividing the column population by the column households from dataframe."
   ]
  },
  {
   "cell_type": "code",
   "execution_count": 3,
   "id": "166829d6",
   "metadata": {},
   "outputs": [],
   "source": [
    "features = ['latitude',\n",
    "'longitude',\n",
    "'housing_median_age',\n",
    "'total_rooms',\n",
    "'total_bedrooms',\n",
    "'population',\n",
    "'households',\n",
    "'median_income',\n",
    "'median_house_value',\n",
    "'ocean_proximity']\n",
    "\n",
    "df = df[features]"
   ]
  },
  {
   "cell_type": "code",
   "execution_count": 4,
   "id": "88f01c01",
   "metadata": {},
   "outputs": [
    {
     "data": {
      "text/html": [
       "<div>\n",
       "<style scoped>\n",
       "    .dataframe tbody tr th:only-of-type {\n",
       "        vertical-align: middle;\n",
       "    }\n",
       "\n",
       "    .dataframe tbody tr th {\n",
       "        vertical-align: top;\n",
       "    }\n",
       "\n",
       "    .dataframe thead th {\n",
       "        text-align: right;\n",
       "    }\n",
       "</style>\n",
       "<table border=\"1\" class=\"dataframe\">\n",
       "  <thead>\n",
       "    <tr style=\"text-align: right;\">\n",
       "      <th></th>\n",
       "      <th>latitude</th>\n",
       "      <th>longitude</th>\n",
       "      <th>housing_median_age</th>\n",
       "      <th>total_rooms</th>\n",
       "      <th>total_bedrooms</th>\n",
       "      <th>population</th>\n",
       "      <th>households</th>\n",
       "      <th>median_income</th>\n",
       "      <th>median_house_value</th>\n",
       "      <th>ocean_proximity</th>\n",
       "    </tr>\n",
       "  </thead>\n",
       "  <tbody>\n",
       "    <tr>\n",
       "      <th>0</th>\n",
       "      <td>37.88</td>\n",
       "      <td>-122.23</td>\n",
       "      <td>41.00</td>\n",
       "      <td>880.00</td>\n",
       "      <td>129.00</td>\n",
       "      <td>322.00</td>\n",
       "      <td>126.00</td>\n",
       "      <td>8.33</td>\n",
       "      <td>452600.00</td>\n",
       "      <td>NEAR BAY</td>\n",
       "    </tr>\n",
       "    <tr>\n",
       "      <th>1</th>\n",
       "      <td>37.86</td>\n",
       "      <td>-122.22</td>\n",
       "      <td>21.00</td>\n",
       "      <td>7099.00</td>\n",
       "      <td>1106.00</td>\n",
       "      <td>2401.00</td>\n",
       "      <td>1138.00</td>\n",
       "      <td>8.30</td>\n",
       "      <td>358500.00</td>\n",
       "      <td>NEAR BAY</td>\n",
       "    </tr>\n",
       "    <tr>\n",
       "      <th>2</th>\n",
       "      <td>37.85</td>\n",
       "      <td>-122.24</td>\n",
       "      <td>52.00</td>\n",
       "      <td>1467.00</td>\n",
       "      <td>190.00</td>\n",
       "      <td>496.00</td>\n",
       "      <td>177.00</td>\n",
       "      <td>7.26</td>\n",
       "      <td>352100.00</td>\n",
       "      <td>NEAR BAY</td>\n",
       "    </tr>\n",
       "    <tr>\n",
       "      <th>3</th>\n",
       "      <td>37.85</td>\n",
       "      <td>-122.25</td>\n",
       "      <td>52.00</td>\n",
       "      <td>1274.00</td>\n",
       "      <td>235.00</td>\n",
       "      <td>558.00</td>\n",
       "      <td>219.00</td>\n",
       "      <td>5.64</td>\n",
       "      <td>341300.00</td>\n",
       "      <td>NEAR BAY</td>\n",
       "    </tr>\n",
       "    <tr>\n",
       "      <th>4</th>\n",
       "      <td>37.85</td>\n",
       "      <td>-122.25</td>\n",
       "      <td>52.00</td>\n",
       "      <td>1627.00</td>\n",
       "      <td>280.00</td>\n",
       "      <td>565.00</td>\n",
       "      <td>259.00</td>\n",
       "      <td>3.85</td>\n",
       "      <td>342200.00</td>\n",
       "      <td>NEAR BAY</td>\n",
       "    </tr>\n",
       "    <tr>\n",
       "      <th>...</th>\n",
       "      <td>...</td>\n",
       "      <td>...</td>\n",
       "      <td>...</td>\n",
       "      <td>...</td>\n",
       "      <td>...</td>\n",
       "      <td>...</td>\n",
       "      <td>...</td>\n",
       "      <td>...</td>\n",
       "      <td>...</td>\n",
       "      <td>...</td>\n",
       "    </tr>\n",
       "    <tr>\n",
       "      <th>20635</th>\n",
       "      <td>39.48</td>\n",
       "      <td>-121.09</td>\n",
       "      <td>25.00</td>\n",
       "      <td>1665.00</td>\n",
       "      <td>374.00</td>\n",
       "      <td>845.00</td>\n",
       "      <td>330.00</td>\n",
       "      <td>1.56</td>\n",
       "      <td>78100.00</td>\n",
       "      <td>INLAND</td>\n",
       "    </tr>\n",
       "    <tr>\n",
       "      <th>20636</th>\n",
       "      <td>39.49</td>\n",
       "      <td>-121.21</td>\n",
       "      <td>18.00</td>\n",
       "      <td>697.00</td>\n",
       "      <td>150.00</td>\n",
       "      <td>356.00</td>\n",
       "      <td>114.00</td>\n",
       "      <td>2.56</td>\n",
       "      <td>77100.00</td>\n",
       "      <td>INLAND</td>\n",
       "    </tr>\n",
       "    <tr>\n",
       "      <th>20637</th>\n",
       "      <td>39.43</td>\n",
       "      <td>-121.22</td>\n",
       "      <td>17.00</td>\n",
       "      <td>2254.00</td>\n",
       "      <td>485.00</td>\n",
       "      <td>1007.00</td>\n",
       "      <td>433.00</td>\n",
       "      <td>1.70</td>\n",
       "      <td>92300.00</td>\n",
       "      <td>INLAND</td>\n",
       "    </tr>\n",
       "    <tr>\n",
       "      <th>20638</th>\n",
       "      <td>39.43</td>\n",
       "      <td>-121.32</td>\n",
       "      <td>18.00</td>\n",
       "      <td>1860.00</td>\n",
       "      <td>409.00</td>\n",
       "      <td>741.00</td>\n",
       "      <td>349.00</td>\n",
       "      <td>1.87</td>\n",
       "      <td>84700.00</td>\n",
       "      <td>INLAND</td>\n",
       "    </tr>\n",
       "    <tr>\n",
       "      <th>20639</th>\n",
       "      <td>39.37</td>\n",
       "      <td>-121.24</td>\n",
       "      <td>16.00</td>\n",
       "      <td>2785.00</td>\n",
       "      <td>616.00</td>\n",
       "      <td>1387.00</td>\n",
       "      <td>530.00</td>\n",
       "      <td>2.39</td>\n",
       "      <td>89400.00</td>\n",
       "      <td>INLAND</td>\n",
       "    </tr>\n",
       "  </tbody>\n",
       "</table>\n",
       "<p>20640 rows × 10 columns</p>\n",
       "</div>"
      ],
      "text/plain": [
       "       latitude  longitude  housing_median_age  total_rooms  total_bedrooms  \\\n",
       "0         37.88    -122.23               41.00       880.00          129.00   \n",
       "1         37.86    -122.22               21.00      7099.00         1106.00   \n",
       "2         37.85    -122.24               52.00      1467.00          190.00   \n",
       "3         37.85    -122.25               52.00      1274.00          235.00   \n",
       "4         37.85    -122.25               52.00      1627.00          280.00   \n",
       "...         ...        ...                 ...          ...             ...   \n",
       "20635     39.48    -121.09               25.00      1665.00          374.00   \n",
       "20636     39.49    -121.21               18.00       697.00          150.00   \n",
       "20637     39.43    -121.22               17.00      2254.00          485.00   \n",
       "20638     39.43    -121.32               18.00      1860.00          409.00   \n",
       "20639     39.37    -121.24               16.00      2785.00          616.00   \n",
       "\n",
       "       population  households  median_income  median_house_value  \\\n",
       "0          322.00      126.00           8.33           452600.00   \n",
       "1         2401.00     1138.00           8.30           358500.00   \n",
       "2          496.00      177.00           7.26           352100.00   \n",
       "3          558.00      219.00           5.64           341300.00   \n",
       "4          565.00      259.00           3.85           342200.00   \n",
       "...           ...         ...            ...                 ...   \n",
       "20635      845.00      330.00           1.56            78100.00   \n",
       "20636      356.00      114.00           2.56            77100.00   \n",
       "20637     1007.00      433.00           1.70            92300.00   \n",
       "20638      741.00      349.00           1.87            84700.00   \n",
       "20639     1387.00      530.00           2.39            89400.00   \n",
       "\n",
       "      ocean_proximity  \n",
       "0            NEAR BAY  \n",
       "1            NEAR BAY  \n",
       "2            NEAR BAY  \n",
       "3            NEAR BAY  \n",
       "4            NEAR BAY  \n",
       "...               ...  \n",
       "20635          INLAND  \n",
       "20636          INLAND  \n",
       "20637          INLAND  \n",
       "20638          INLAND  \n",
       "20639          INLAND  \n",
       "\n",
       "[20640 rows x 10 columns]"
      ]
     },
     "execution_count": 4,
     "metadata": {},
     "output_type": "execute_result"
    }
   ],
   "source": [
    "df"
   ]
  },
  {
   "cell_type": "code",
   "execution_count": 5,
   "id": "017c06b2",
   "metadata": {},
   "outputs": [],
   "source": [
    "# Initial cleaning:\n",
    "\n",
    "df.columns = df.columns.str.lower().str.replace(' ','_')\n",
    "\n",
    "categorical_cols = list(df.dtypes[df.dtypes == 'object'].index)\n",
    "numeric_cols = list(df.dtypes[df.dtypes != 'object'].index)\n",
    "\n",
    "for c in categorical_cols:\n",
    "    df[c] = df[c].str.lower().str.replace(' ','_')"
   ]
  },
  {
   "cell_type": "code",
   "execution_count": 6,
   "id": "bc90f672",
   "metadata": {},
   "outputs": [
    {
     "data": {
      "text/plain": [
       "['ocean_proximity']"
      ]
     },
     "execution_count": 6,
     "metadata": {},
     "output_type": "execute_result"
    }
   ],
   "source": [
    "categorical_cols"
   ]
  },
  {
   "cell_type": "code",
   "execution_count": 7,
   "id": "c97fd0bf",
   "metadata": {},
   "outputs": [
    {
     "data": {
      "text/plain": [
       "['latitude',\n",
       " 'longitude',\n",
       " 'housing_median_age',\n",
       " 'total_rooms',\n",
       " 'total_bedrooms',\n",
       " 'population',\n",
       " 'households',\n",
       " 'median_income',\n",
       " 'median_house_value']"
      ]
     },
     "execution_count": 7,
     "metadata": {},
     "output_type": "execute_result"
    }
   ],
   "source": [
    "numeric_cols"
   ]
  },
  {
   "cell_type": "code",
   "execution_count": 8,
   "id": "e5298524",
   "metadata": {},
   "outputs": [
    {
     "data": {
      "text/plain": [
       "latitude                0\n",
       "longitude               0\n",
       "housing_median_age      0\n",
       "total_rooms             0\n",
       "total_bedrooms        207\n",
       "population              0\n",
       "households              0\n",
       "median_income           0\n",
       "median_house_value      0\n",
       "ocean_proximity         0\n",
       "dtype: int64"
      ]
     },
     "execution_count": 8,
     "metadata": {},
     "output_type": "execute_result"
    }
   ],
   "source": [
    "df.isnull().sum()"
   ]
  },
  {
   "cell_type": "code",
   "execution_count": 9,
   "id": "0b5716f1",
   "metadata": {},
   "outputs": [],
   "source": [
    "#@ HANDLING MISSING VALUES:\n",
    "median = df[\"total_bedrooms\"].median()                                 \n",
    "df[\"total_bedrooms\"].fillna(median, inplace=True) "
   ]
  },
  {
   "cell_type": "code",
   "execution_count": 10,
   "id": "5368f393",
   "metadata": {},
   "outputs": [],
   "source": [
    "df['rooms_per_household'] = df['total_rooms'] / df['households']\n",
    "df['bedrooms_per_room'] = df['total_bedrooms'] / df['total_rooms']\n",
    "df['population_per_household'] = df['population'] / df['households']"
   ]
  },
  {
   "cell_type": "markdown",
   "id": "0b72e9e9",
   "metadata": {},
   "source": [
    "# Question - 1 : What is the most frequent observation (mode) for the column ocean_proximity?"
   ]
  },
  {
   "cell_type": "code",
   "execution_count": 11,
   "id": "ee1dbc88",
   "metadata": {},
   "outputs": [
    {
     "data": {
      "text/plain": [
       "0    <1h_ocean\n",
       "Name: ocean_proximity, dtype: object"
      ]
     },
     "execution_count": 11,
     "metadata": {},
     "output_type": "execute_result"
    }
   ],
   "source": [
    "df['ocean_proximity'].mode()"
   ]
  },
  {
   "cell_type": "markdown",
   "id": "7fbf111e",
   "metadata": {},
   "source": [
    "# Question -2 : Create the correlation matrix for the numerical features of your train dataset.\n",
    "- In a correlation matrix, you compute the correlation coefficient between every pair of features in the dataset.\n",
    "- What are the two features that have the biggest correlation in this dataset?"
   ]
  },
  {
   "cell_type": "code",
   "execution_count": 12,
   "id": "8908d848",
   "metadata": {},
   "outputs": [],
   "source": [
    "mean = df.median_house_value.mean()\n",
    "df['above_average'] = df['median_house_value'].map(lambda x: 1 if x>mean else 0)"
   ]
  },
  {
   "cell_type": "code",
   "execution_count": 30,
   "id": "38f23b55",
   "metadata": {},
   "outputs": [],
   "source": [
    "#del df['median_house_value']"
   ]
  },
  {
   "cell_type": "code",
   "execution_count": 13,
   "id": "3af77e79",
   "metadata": {},
   "outputs": [],
   "source": [
    "# Splitting data to train,validation and test set:\n",
    "\n",
    "df_full_train, df_test = train_test_split(df,test_size=0.2,random_state=42)\n",
    "\n",
    "# Further splitting of training and validation data:\n",
    "\n",
    "df_train, df_val = train_test_split(df_full_train,test_size=0.25,random_state=42)"
   ]
  },
  {
   "cell_type": "code",
   "execution_count": 14,
   "id": "cbb25d9d",
   "metadata": {},
   "outputs": [],
   "source": [
    "df_full_train = df_full_train.reset_index(drop=True)\n",
    "df_train = df_train.reset_index(drop=True)\n",
    "df_val = df_val.reset_index(drop=True)\n",
    "df_test = df_test.reset_index(drop=True)"
   ]
  },
  {
   "cell_type": "code",
   "execution_count": 15,
   "id": "1c1ee9eb",
   "metadata": {},
   "outputs": [],
   "source": [
    "y_train = df_train.above_average.values\n",
    "y_val = df_val.above_average.values\n",
    "y_test = df_test.above_average.values"
   ]
  },
  {
   "cell_type": "code",
   "execution_count": 16,
   "id": "191daf0f",
   "metadata": {},
   "outputs": [],
   "source": [
    "# Checking shapes of dataframes:"
   ]
  },
  {
   "cell_type": "code",
   "execution_count": 16,
   "id": "3ce1b02f",
   "metadata": {},
   "outputs": [
    {
     "data": {
      "text/plain": [
       "(16512, 12384, 4128, 4128)"
      ]
     },
     "execution_count": 16,
     "metadata": {},
     "output_type": "execute_result"
    }
   ],
   "source": [
    "len(df_full_train),len(df_train),len(df_val),len(df_test)"
   ]
  },
  {
   "cell_type": "code",
   "execution_count": 40,
   "id": "fe004e62",
   "metadata": {},
   "outputs": [
    {
     "data": {
      "text/html": [
       "<div>\n",
       "<style scoped>\n",
       "    .dataframe tbody tr th:only-of-type {\n",
       "        vertical-align: middle;\n",
       "    }\n",
       "\n",
       "    .dataframe tbody tr th {\n",
       "        vertical-align: top;\n",
       "    }\n",
       "\n",
       "    .dataframe thead th {\n",
       "        text-align: right;\n",
       "    }\n",
       "</style>\n",
       "<table border=\"1\" class=\"dataframe\">\n",
       "  <thead>\n",
       "    <tr style=\"text-align: right;\">\n",
       "      <th></th>\n",
       "      <th>latitude</th>\n",
       "      <th>longitude</th>\n",
       "      <th>housing_median_age</th>\n",
       "      <th>total_rooms</th>\n",
       "      <th>total_bedrooms</th>\n",
       "      <th>population</th>\n",
       "      <th>households</th>\n",
       "      <th>median_income</th>\n",
       "      <th>median_house_value</th>\n",
       "      <th>ocean_proximity</th>\n",
       "      <th>rooms_per_household</th>\n",
       "      <th>bedrooms_per_room</th>\n",
       "      <th>above_average</th>\n",
       "      <th>population_per_household</th>\n",
       "    </tr>\n",
       "  </thead>\n",
       "  <tbody>\n",
       "    <tr>\n",
       "      <th>0</th>\n",
       "      <td>32.71</td>\n",
       "      <td>-117.03</td>\n",
       "      <td>33.00</td>\n",
       "      <td>3126.00</td>\n",
       "      <td>627.00</td>\n",
       "      <td>3.69</td>\n",
       "      <td>623.00</td>\n",
       "      <td>3.26</td>\n",
       "      <td>103000.00</td>\n",
       "      <td>near_ocean</td>\n",
       "      <td>5.02</td>\n",
       "      <td>0.20</td>\n",
       "      <td>0</td>\n",
       "      <td>0.01</td>\n",
       "    </tr>\n",
       "    <tr>\n",
       "      <th>1</th>\n",
       "      <td>33.77</td>\n",
       "      <td>-118.16</td>\n",
       "      <td>49.00</td>\n",
       "      <td>3382.00</td>\n",
       "      <td>787.00</td>\n",
       "      <td>1.74</td>\n",
       "      <td>756.00</td>\n",
       "      <td>3.81</td>\n",
       "      <td>382100.00</td>\n",
       "      <td>near_ocean</td>\n",
       "      <td>4.47</td>\n",
       "      <td>0.23</td>\n",
       "      <td>1</td>\n",
       "      <td>0.00</td>\n",
       "    </tr>\n",
       "    <tr>\n",
       "      <th>2</th>\n",
       "      <td>34.66</td>\n",
       "      <td>-120.48</td>\n",
       "      <td>4.00</td>\n",
       "      <td>1897.00</td>\n",
       "      <td>331.00</td>\n",
       "      <td>2.72</td>\n",
       "      <td>336.00</td>\n",
       "      <td>4.16</td>\n",
       "      <td>172600.00</td>\n",
       "      <td>near_ocean</td>\n",
       "      <td>5.65</td>\n",
       "      <td>0.17</td>\n",
       "      <td>0</td>\n",
       "      <td>0.01</td>\n",
       "    </tr>\n",
       "    <tr>\n",
       "      <th>3</th>\n",
       "      <td>32.69</td>\n",
       "      <td>-117.11</td>\n",
       "      <td>36.00</td>\n",
       "      <td>1421.00</td>\n",
       "      <td>367.00</td>\n",
       "      <td>3.99</td>\n",
       "      <td>355.00</td>\n",
       "      <td>1.94</td>\n",
       "      <td>93400.00</td>\n",
       "      <td>near_ocean</td>\n",
       "      <td>4.00</td>\n",
       "      <td>0.26</td>\n",
       "      <td>0</td>\n",
       "      <td>0.01</td>\n",
       "    </tr>\n",
       "    <tr>\n",
       "      <th>4</th>\n",
       "      <td>36.78</td>\n",
       "      <td>-119.80</td>\n",
       "      <td>43.00</td>\n",
       "      <td>2382.00</td>\n",
       "      <td>431.00</td>\n",
       "      <td>2.30</td>\n",
       "      <td>380.00</td>\n",
       "      <td>3.55</td>\n",
       "      <td>96500.00</td>\n",
       "      <td>inland</td>\n",
       "      <td>6.27</td>\n",
       "      <td>0.18</td>\n",
       "      <td>0</td>\n",
       "      <td>0.01</td>\n",
       "    </tr>\n",
       "    <tr>\n",
       "      <th>...</th>\n",
       "      <td>...</td>\n",
       "      <td>...</td>\n",
       "      <td>...</td>\n",
       "      <td>...</td>\n",
       "      <td>...</td>\n",
       "      <td>...</td>\n",
       "      <td>...</td>\n",
       "      <td>...</td>\n",
       "      <td>...</td>\n",
       "      <td>...</td>\n",
       "      <td>...</td>\n",
       "      <td>...</td>\n",
       "      <td>...</td>\n",
       "      <td>...</td>\n",
       "    </tr>\n",
       "    <tr>\n",
       "      <th>16507</th>\n",
       "      <td>33.78</td>\n",
       "      <td>-117.96</td>\n",
       "      <td>35.00</td>\n",
       "      <td>1330.00</td>\n",
       "      <td>201.00</td>\n",
       "      <td>3.03</td>\n",
       "      <td>217.00</td>\n",
       "      <td>6.37</td>\n",
       "      <td>229200.00</td>\n",
       "      <td>&lt;1h_ocean</td>\n",
       "      <td>6.13</td>\n",
       "      <td>0.15</td>\n",
       "      <td>1</td>\n",
       "      <td>0.01</td>\n",
       "    </tr>\n",
       "    <tr>\n",
       "      <th>16508</th>\n",
       "      <td>34.02</td>\n",
       "      <td>-117.43</td>\n",
       "      <td>33.00</td>\n",
       "      <td>3084.00</td>\n",
       "      <td>570.00</td>\n",
       "      <td>3.90</td>\n",
       "      <td>449.00</td>\n",
       "      <td>3.05</td>\n",
       "      <td>97800.00</td>\n",
       "      <td>inland</td>\n",
       "      <td>6.87</td>\n",
       "      <td>0.18</td>\n",
       "      <td>0</td>\n",
       "      <td>0.01</td>\n",
       "    </tr>\n",
       "    <tr>\n",
       "      <th>16509</th>\n",
       "      <td>34.03</td>\n",
       "      <td>-118.38</td>\n",
       "      <td>36.00</td>\n",
       "      <td>2101.00</td>\n",
       "      <td>569.00</td>\n",
       "      <td>3.33</td>\n",
       "      <td>527.00</td>\n",
       "      <td>2.93</td>\n",
       "      <td>222100.00</td>\n",
       "      <td>&lt;1h_ocean</td>\n",
       "      <td>3.99</td>\n",
       "      <td>0.27</td>\n",
       "      <td>1</td>\n",
       "      <td>0.01</td>\n",
       "    </tr>\n",
       "    <tr>\n",
       "      <th>16510</th>\n",
       "      <td>37.58</td>\n",
       "      <td>-121.96</td>\n",
       "      <td>15.00</td>\n",
       "      <td>3575.00</td>\n",
       "      <td>597.00</td>\n",
       "      <td>3.18</td>\n",
       "      <td>559.00</td>\n",
       "      <td>5.72</td>\n",
       "      <td>283500.00</td>\n",
       "      <td>&lt;1h_ocean</td>\n",
       "      <td>6.40</td>\n",
       "      <td>0.17</td>\n",
       "      <td>1</td>\n",
       "      <td>0.01</td>\n",
       "    </tr>\n",
       "    <tr>\n",
       "      <th>16511</th>\n",
       "      <td>37.77</td>\n",
       "      <td>-122.42</td>\n",
       "      <td>52.00</td>\n",
       "      <td>4226.00</td>\n",
       "      <td>1315.00</td>\n",
       "      <td>2.11</td>\n",
       "      <td>1242.00</td>\n",
       "      <td>2.58</td>\n",
       "      <td>325000.00</td>\n",
       "      <td>near_bay</td>\n",
       "      <td>3.40</td>\n",
       "      <td>0.31</td>\n",
       "      <td>1</td>\n",
       "      <td>0.00</td>\n",
       "    </tr>\n",
       "  </tbody>\n",
       "</table>\n",
       "<p>16512 rows × 14 columns</p>\n",
       "</div>"
      ],
      "text/plain": [
       "       latitude  longitude  housing_median_age  total_rooms  total_bedrooms  \\\n",
       "0         32.71    -117.03               33.00      3126.00          627.00   \n",
       "1         33.77    -118.16               49.00      3382.00          787.00   \n",
       "2         34.66    -120.48                4.00      1897.00          331.00   \n",
       "3         32.69    -117.11               36.00      1421.00          367.00   \n",
       "4         36.78    -119.80               43.00      2382.00          431.00   \n",
       "...         ...        ...                 ...          ...             ...   \n",
       "16507     33.78    -117.96               35.00      1330.00          201.00   \n",
       "16508     34.02    -117.43               33.00      3084.00          570.00   \n",
       "16509     34.03    -118.38               36.00      2101.00          569.00   \n",
       "16510     37.58    -121.96               15.00      3575.00          597.00   \n",
       "16511     37.77    -122.42               52.00      4226.00         1315.00   \n",
       "\n",
       "       population  households  median_income  median_house_value  \\\n",
       "0            3.69      623.00           3.26           103000.00   \n",
       "1            1.74      756.00           3.81           382100.00   \n",
       "2            2.72      336.00           4.16           172600.00   \n",
       "3            3.99      355.00           1.94            93400.00   \n",
       "4            2.30      380.00           3.55            96500.00   \n",
       "...           ...         ...            ...                 ...   \n",
       "16507        3.03      217.00           6.37           229200.00   \n",
       "16508        3.90      449.00           3.05            97800.00   \n",
       "16509        3.33      527.00           2.93           222100.00   \n",
       "16510        3.18      559.00           5.72           283500.00   \n",
       "16511        2.11     1242.00           2.58           325000.00   \n",
       "\n",
       "      ocean_proximity  rooms_per_household  bedrooms_per_room  above_average  \\\n",
       "0          near_ocean                 5.02               0.20              0   \n",
       "1          near_ocean                 4.47               0.23              1   \n",
       "2          near_ocean                 5.65               0.17              0   \n",
       "3          near_ocean                 4.00               0.26              0   \n",
       "4              inland                 6.27               0.18              0   \n",
       "...               ...                  ...                ...            ...   \n",
       "16507       <1h_ocean                 6.13               0.15              1   \n",
       "16508          inland                 6.87               0.18              0   \n",
       "16509       <1h_ocean                 3.99               0.27              1   \n",
       "16510       <1h_ocean                 6.40               0.17              1   \n",
       "16511        near_bay                 3.40               0.31              1   \n",
       "\n",
       "       population_per_household  \n",
       "0                          0.01  \n",
       "1                          0.00  \n",
       "2                          0.01  \n",
       "3                          0.01  \n",
       "4                          0.01  \n",
       "...                         ...  \n",
       "16507                      0.01  \n",
       "16508                      0.01  \n",
       "16509                      0.01  \n",
       "16510                      0.01  \n",
       "16511                      0.00  \n",
       "\n",
       "[16512 rows x 14 columns]"
      ]
     },
     "execution_count": 40,
     "metadata": {},
     "output_type": "execute_result"
    }
   ],
   "source": [
    "df_full_train"
   ]
  },
  {
   "cell_type": "code",
   "execution_count": 17,
   "id": "0044d114",
   "metadata": {},
   "outputs": [
    {
     "data": {
      "text/plain": [
       "latitude            latitude             1.00\n",
       "longitude           longitude            1.00\n",
       "median_income       median_income        1.00\n",
       "households          households           1.00\n",
       "population          population           1.00\n",
       "total_rooms         total_rooms          1.00\n",
       "housing_median_age  housing_median_age   1.00\n",
       "total_bedrooms      total_bedrooms       1.00\n",
       "median_house_value  median_house_value   1.00\n",
       "households          total_bedrooms       0.97\n",
       "total_bedrooms      households           0.97\n",
       "total_rooms         total_bedrooms       0.93\n",
       "total_bedrooms      total_rooms          0.93\n",
       "total_rooms         households           0.92\n",
       "households          total_rooms          0.92\n",
       "dtype: float64"
      ]
     },
     "execution_count": 17,
     "metadata": {},
     "output_type": "execute_result"
    }
   ],
   "source": [
    "# Correlation for numerical features:\n",
    "df[numeric_cols].corr().unstack().sort_values(ascending=False)[:15]"
   ]
  },
  {
   "cell_type": "code",
   "execution_count": 18,
   "id": "75bb1f8e",
   "metadata": {},
   "outputs": [],
   "source": [
    "# answer: total_bedrooms      households  0.97"
   ]
  },
  {
   "cell_type": "markdown",
   "id": "8583a20a",
   "metadata": {},
   "source": [
    "# Question 3\n",
    "- Calculate the mutual information score between above_average and ocean_proximity . Use the training set only.\n",
    "- Round it to 2 decimals using round(score, 2)\n",
    "- What is their mutual information score?"
   ]
  },
  {
   "cell_type": "code",
   "execution_count": 1,
   "id": "d09b619b",
   "metadata": {},
   "outputs": [],
   "source": [
    "from sklearn.metrics import mutual_info_score"
   ]
  },
  {
   "cell_type": "code",
   "execution_count": null,
   "id": "5362ad7e",
   "metadata": {},
   "outputs": [],
   "source": [
    "mutual_info_score"
   ]
  },
  {
   "cell_type": "code",
   "execution_count": 19,
   "id": "f6d7f56c",
   "metadata": {},
   "outputs": [
    {
     "data": {
      "text/html": [
       "<div>\n",
       "<style scoped>\n",
       "    .dataframe tbody tr th:only-of-type {\n",
       "        vertical-align: middle;\n",
       "    }\n",
       "\n",
       "    .dataframe tbody tr th {\n",
       "        vertical-align: top;\n",
       "    }\n",
       "\n",
       "    .dataframe thead th {\n",
       "        text-align: right;\n",
       "    }\n",
       "</style>\n",
       "<table border=\"1\" class=\"dataframe\">\n",
       "  <thead>\n",
       "    <tr style=\"text-align: right;\">\n",
       "      <th></th>\n",
       "      <th>MI</th>\n",
       "    </tr>\n",
       "  </thead>\n",
       "  <tbody>\n",
       "    <tr>\n",
       "      <th>ocean_proximity</th>\n",
       "      <td>0.10</td>\n",
       "    </tr>\n",
       "  </tbody>\n",
       "</table>\n",
       "</div>"
      ],
      "text/plain": [
       "                  MI\n",
       "ocean_proximity 0.10"
      ]
     },
     "execution_count": 19,
     "metadata": {},
     "output_type": "execute_result"
    }
   ],
   "source": [
    "#@ PREPARING DATASET:\n",
    "cat = ['ocean_proximity']\n",
    "\n",
    "#@ DEFINING FUNCTION:\n",
    "def calculate_mi(series):\n",
    "    return mutual_info_score(series, df_train.above_average)\n",
    "\n",
    "#@ IMPLEMENTATION:\n",
    "df_mi = df_train[cat].apply(calculate_mi)\n",
    "df_mi = df_mi.sort_values(ascending=False).to_frame(name='MI')\n",
    "df_mi"
   ]
  },
  {
   "cell_type": "markdown",
   "id": "02e5b325",
   "metadata": {},
   "source": [
    "# Question 4\n",
    "- Now let's train a logistic regression\n",
    "- Remember that we have one categorical variable ocean_proximity in the data. Include it using one-hot encoding.\n",
    "- Fit the model on the training dataset.\n",
    "- To make sure the results are reproducible across different versions of Scikit-Learn, fit the model with these parameters:\n",
    "- model = LogisticRegression(solver=\"liblinear\", C=1.0, max_iter=1000, random_state=42)\n",
    "- Calculate the accuracy on the validation dataset and round it to 2 decimal digits."
   ]
  },
  {
   "cell_type": "code",
   "execution_count": 20,
   "id": "4599ccb1",
   "metadata": {},
   "outputs": [],
   "source": [
    "from sklearn.metrics import accuracy_score"
   ]
  },
  {
   "cell_type": "code",
   "execution_count": 21,
   "id": "92002e25",
   "metadata": {},
   "outputs": [],
   "source": [
    "#@ PREPARING THE DATASET:\n",
    "df_train = df_train.drop('above_average', axis=1)\n",
    "df_val = df_val.drop('above_average', axis=1)\n",
    "df_test = df_test.drop('above_average', axis=1)"
   ]
  },
  {
   "cell_type": "code",
   "execution_count": 22,
   "id": "99d1bcfc",
   "metadata": {},
   "outputs": [
    {
     "data": {
      "text/plain": [
       "['ocean_proximity']"
      ]
     },
     "execution_count": 22,
     "metadata": {},
     "output_type": "execute_result"
    }
   ],
   "source": [
    "categorical_cols"
   ]
  },
  {
   "cell_type": "code",
   "execution_count": 23,
   "id": "b994eec6",
   "metadata": {},
   "outputs": [
    {
     "data": {
      "text/plain": [
       "['longitude',\n",
       " 'latitude',\n",
       " 'housing_median_age',\n",
       " 'total_rooms',\n",
       " 'total_bedrooms',\n",
       " 'population',\n",
       " 'households',\n",
       " 'median_income',\n",
       " 'rooms_per_household',\n",
       " 'bedrooms_per_room',\n",
       " 'population_per_household']"
      ]
     },
     "execution_count": 23,
     "metadata": {},
     "output_type": "execute_result"
    }
   ],
   "source": [
    "# redefining numeric cols to include new features:\n",
    "\n",
    "numeric_cols = [\"longitude\", \"latitude\", \"housing_median_age\", \"total_rooms\",\n",
    "                \"total_bedrooms\", \"population\", \"households\",\n",
    "                \"median_income\", \"rooms_per_household\", \n",
    "                \"bedrooms_per_room\", \"population_per_household\"]\n",
    "numeric_cols"
   ]
  },
  {
   "cell_type": "code",
   "execution_count": 24,
   "id": "302fab7d",
   "metadata": {},
   "outputs": [
    {
     "data": {
      "text/plain": [
       "['ocean_proximity']"
      ]
     },
     "execution_count": 24,
     "metadata": {},
     "output_type": "execute_result"
    }
   ],
   "source": [
    "categorical_cols"
   ]
  },
  {
   "cell_type": "code",
   "execution_count": 25,
   "id": "812acbd8",
   "metadata": {},
   "outputs": [],
   "source": [
    "train_dicts = df_train[categorical_cols + numeric_cols].to_dict(orient='records')\n",
    "\n",
    "# Vectorizing:\n",
    "dv = DictVectorizer(sparse=False)\n",
    "dv.fit(train_dicts)\n",
    "X_train = dv.transform(train_dicts)"
   ]
  },
  {
   "cell_type": "code",
   "execution_count": 26,
   "id": "c0f4113c",
   "metadata": {},
   "outputs": [
    {
     "name": "stdout",
     "output_type": "stream",
     "text": [
      "0.84\n"
     ]
    }
   ],
   "source": [
    "# Training Logistic regression model:\n",
    "model = LogisticRegression(solver=\"liblinear\", C=1.0, max_iter=1000, random_state=42)\n",
    "model.fit(X_train,y_train)\n",
    "\n",
    "# Model prediction:\n",
    "val_dict = df_val[categorical_cols + numeric_cols].to_dict(orient='records')\n",
    "X_val = dv.transform(val_dict)\n",
    "y_pred = model.predict(X_val)\n",
    "\n",
    "# Accuracy:\n",
    "accuracy = np.round(accuracy_score(y_val, y_pred),2)\n",
    "print(accuracy)"
   ]
  },
  {
   "cell_type": "markdown",
   "id": "2ac634bd",
   "metadata": {},
   "source": [
    "# Question 5:\n",
    "- Let's find the least useful feature using the feature elimination technique.\n",
    "- Train a model with all these features (using the same parameters as in Q4).\n",
    "- Now exclude each feature from this set and train a model without it. Record the accuracy for each model.\n",
    "- For each feature, calculate the difference between the original accuracy and the accuracy without the feature.\n",
    "- Which of following feature has the smallest difference?"
   ]
  },
  {
   "cell_type": "code",
   "execution_count": 29,
   "id": "c1f94cfc",
   "metadata": {},
   "outputs": [
    {
     "data": {
      "text/plain": [
       "['ocean_proximity',\n",
       " 'longitude',\n",
       " 'latitude',\n",
       " 'housing_median_age',\n",
       " 'total_rooms',\n",
       " 'total_bedrooms',\n",
       " 'population',\n",
       " 'households',\n",
       " 'median_income',\n",
       " 'rooms_per_household',\n",
       " 'bedrooms_per_room',\n",
       " 'population_per_household']"
      ]
     },
     "execution_count": 29,
     "metadata": {},
     "output_type": "execute_result"
    }
   ],
   "source": [
    "features = categorical_cols + numeric_cols\n",
    "features"
   ]
  },
  {
   "cell_type": "code",
   "execution_count": 44,
   "id": "89390c86",
   "metadata": {},
   "outputs": [],
   "source": [
    "del orig_score,original_score,listt"
   ]
  },
  {
   "cell_type": "code",
   "execution_count": 50,
   "id": "10a8f31a",
   "metadata": {},
   "outputs": [
    {
     "name": "stdout",
     "output_type": "stream",
     "text": [
      "ocean_proximity 0.019505813953488382 0.8204941860465116\n",
      "longitude 0.007877906976744176 0.8321220930232558\n",
      "latitude 0.006666666666666599 0.8333333333333334\n",
      "housing_median_age 0.008604651162790633 0.8313953488372093\n",
      "total_rooms 0.003517441860465098 0.8364825581395349\n",
      "total_bedrooms 0.0030329457364340895 0.8369670542635659\n",
      "population 0.013691860465116279 0.8263081395348837\n",
      "households 0.00618217054263559 0.8338178294573644\n",
      "median_income 0.05511627906976746 0.7848837209302325\n",
      "rooms_per_household 0.004970930232558124 0.8350290697674418\n",
      "bedrooms_per_room 0.004728682170542564 0.8352713178294574\n",
      "population_per_household 0.004001937984496107 0.8359980620155039\n"
     ]
    }
   ],
   "source": [
    "#@ INSPECTING THE DIFFERENCE IN ACCURACY:\n",
    "orig_score = accuracy\n",
    "\n",
    "for c in features:\n",
    "    subset = features.copy()\n",
    "    subset.remove(c)\n",
    "    \n",
    "    train_dict = df_train[subset].to_dict(orient='records')\n",
    "\n",
    "    dv = DictVectorizer(sparse=False)\n",
    "    dv.fit(train_dict)\n",
    "\n",
    "    X_train = dv.transform(train_dict)\n",
    "\n",
    "    model = LogisticRegression(solver='liblinear', C=1.0, max_iter=1000, random_state=42)\n",
    "    model.fit(X_train, y_train)\n",
    "\n",
    "    val_dict = df_val[subset].to_dict(orient='records')\n",
    "    X_val = dv.transform(val_dict)\n",
    "\n",
    "    y_pred = model.predict(X_val)\n",
    "\n",
    "    score = accuracy_score(y_val, y_pred)\n",
    "    print(c, orig_score - score, score)"
   ]
  },
  {
   "cell_type": "code",
   "execution_count": 46,
   "id": "5da9301a",
   "metadata": {},
   "outputs": [],
   "source": [
    "# answer is total_bedrooms"
   ]
  },
  {
   "cell_type": "code",
   "execution_count": null,
   "id": "5db86e6e",
   "metadata": {},
   "outputs": [],
   "source": [
    "#print(c, orig_score.round(2) - score.round(2),orig_score.round(2), score.round(2))"
   ]
  },
  {
   "cell_type": "markdown",
   "id": "6301f211",
   "metadata": {},
   "source": [
    "# Question 6\n",
    "- For this question, we'll see how to use a linear regression model from Scikit-Learn\n",
    "- We'll need to use the original column 'median_house_value'. Apply the logarithmic transformation to this column.\n",
    "- Fit the Ridge regression model (model = Ridge(alpha=a, solver=\"sag\", random_state=42)) on the training data.\n",
    "- This model has a parameter alpha. Let's try the following values: [0, 0.01, 0.1, 1, 10]\n",
    "- Which of these alphas leads to the best RMSE on the validation set? Round your RMSE scores to 3 decimal digits."
   ]
  },
  {
   "cell_type": "code",
   "execution_count": 71,
   "id": "e698a15f",
   "metadata": {},
   "outputs": [],
   "source": [
    "df['median_house_value'] = np.log1p(df['median_house_value'])"
   ]
  },
  {
   "cell_type": "code",
   "execution_count": 96,
   "id": "5d96a6ab",
   "metadata": {},
   "outputs": [
    {
     "data": {
      "text/html": [
       "<div>\n",
       "<style scoped>\n",
       "    .dataframe tbody tr th:only-of-type {\n",
       "        vertical-align: middle;\n",
       "    }\n",
       "\n",
       "    .dataframe tbody tr th {\n",
       "        vertical-align: top;\n",
       "    }\n",
       "\n",
       "    .dataframe thead th {\n",
       "        text-align: right;\n",
       "    }\n",
       "</style>\n",
       "<table border=\"1\" class=\"dataframe\">\n",
       "  <thead>\n",
       "    <tr style=\"text-align: right;\">\n",
       "      <th></th>\n",
       "      <th>latitude</th>\n",
       "      <th>longitude</th>\n",
       "      <th>housing_median_age</th>\n",
       "      <th>total_rooms</th>\n",
       "      <th>total_bedrooms</th>\n",
       "      <th>population</th>\n",
       "      <th>households</th>\n",
       "      <th>median_income</th>\n",
       "      <th>median_house_value</th>\n",
       "      <th>ocean_proximity</th>\n",
       "      <th>rooms_per_household</th>\n",
       "      <th>bedrooms_per_room</th>\n",
       "      <th>population_per_household</th>\n",
       "      <th>above_average</th>\n",
       "    </tr>\n",
       "  </thead>\n",
       "  <tbody>\n",
       "    <tr>\n",
       "      <th>0</th>\n",
       "      <td>37.88</td>\n",
       "      <td>-122.23</td>\n",
       "      <td>41.00</td>\n",
       "      <td>880.00</td>\n",
       "      <td>129.00</td>\n",
       "      <td>322.00</td>\n",
       "      <td>126.00</td>\n",
       "      <td>8.33</td>\n",
       "      <td>13.02</td>\n",
       "      <td>near_bay</td>\n",
       "      <td>6.98</td>\n",
       "      <td>0.15</td>\n",
       "      <td>2.56</td>\n",
       "      <td>1</td>\n",
       "    </tr>\n",
       "    <tr>\n",
       "      <th>1</th>\n",
       "      <td>37.86</td>\n",
       "      <td>-122.22</td>\n",
       "      <td>21.00</td>\n",
       "      <td>7099.00</td>\n",
       "      <td>1106.00</td>\n",
       "      <td>2401.00</td>\n",
       "      <td>1138.00</td>\n",
       "      <td>8.30</td>\n",
       "      <td>12.79</td>\n",
       "      <td>near_bay</td>\n",
       "      <td>6.24</td>\n",
       "      <td>0.16</td>\n",
       "      <td>2.11</td>\n",
       "      <td>1</td>\n",
       "    </tr>\n",
       "    <tr>\n",
       "      <th>2</th>\n",
       "      <td>37.85</td>\n",
       "      <td>-122.24</td>\n",
       "      <td>52.00</td>\n",
       "      <td>1467.00</td>\n",
       "      <td>190.00</td>\n",
       "      <td>496.00</td>\n",
       "      <td>177.00</td>\n",
       "      <td>7.26</td>\n",
       "      <td>12.77</td>\n",
       "      <td>near_bay</td>\n",
       "      <td>8.29</td>\n",
       "      <td>0.13</td>\n",
       "      <td>2.80</td>\n",
       "      <td>1</td>\n",
       "    </tr>\n",
       "    <tr>\n",
       "      <th>3</th>\n",
       "      <td>37.85</td>\n",
       "      <td>-122.25</td>\n",
       "      <td>52.00</td>\n",
       "      <td>1274.00</td>\n",
       "      <td>235.00</td>\n",
       "      <td>558.00</td>\n",
       "      <td>219.00</td>\n",
       "      <td>5.64</td>\n",
       "      <td>12.74</td>\n",
       "      <td>near_bay</td>\n",
       "      <td>5.82</td>\n",
       "      <td>0.18</td>\n",
       "      <td>2.55</td>\n",
       "      <td>1</td>\n",
       "    </tr>\n",
       "    <tr>\n",
       "      <th>4</th>\n",
       "      <td>37.85</td>\n",
       "      <td>-122.25</td>\n",
       "      <td>52.00</td>\n",
       "      <td>1627.00</td>\n",
       "      <td>280.00</td>\n",
       "      <td>565.00</td>\n",
       "      <td>259.00</td>\n",
       "      <td>3.85</td>\n",
       "      <td>12.74</td>\n",
       "      <td>near_bay</td>\n",
       "      <td>6.28</td>\n",
       "      <td>0.17</td>\n",
       "      <td>2.18</td>\n",
       "      <td>1</td>\n",
       "    </tr>\n",
       "    <tr>\n",
       "      <th>...</th>\n",
       "      <td>...</td>\n",
       "      <td>...</td>\n",
       "      <td>...</td>\n",
       "      <td>...</td>\n",
       "      <td>...</td>\n",
       "      <td>...</td>\n",
       "      <td>...</td>\n",
       "      <td>...</td>\n",
       "      <td>...</td>\n",
       "      <td>...</td>\n",
       "      <td>...</td>\n",
       "      <td>...</td>\n",
       "      <td>...</td>\n",
       "      <td>...</td>\n",
       "    </tr>\n",
       "    <tr>\n",
       "      <th>20635</th>\n",
       "      <td>39.48</td>\n",
       "      <td>-121.09</td>\n",
       "      <td>25.00</td>\n",
       "      <td>1665.00</td>\n",
       "      <td>374.00</td>\n",
       "      <td>845.00</td>\n",
       "      <td>330.00</td>\n",
       "      <td>1.56</td>\n",
       "      <td>11.27</td>\n",
       "      <td>inland</td>\n",
       "      <td>5.05</td>\n",
       "      <td>0.22</td>\n",
       "      <td>2.56</td>\n",
       "      <td>0</td>\n",
       "    </tr>\n",
       "    <tr>\n",
       "      <th>20636</th>\n",
       "      <td>39.49</td>\n",
       "      <td>-121.21</td>\n",
       "      <td>18.00</td>\n",
       "      <td>697.00</td>\n",
       "      <td>150.00</td>\n",
       "      <td>356.00</td>\n",
       "      <td>114.00</td>\n",
       "      <td>2.56</td>\n",
       "      <td>11.25</td>\n",
       "      <td>inland</td>\n",
       "      <td>6.11</td>\n",
       "      <td>0.22</td>\n",
       "      <td>3.12</td>\n",
       "      <td>0</td>\n",
       "    </tr>\n",
       "    <tr>\n",
       "      <th>20637</th>\n",
       "      <td>39.43</td>\n",
       "      <td>-121.22</td>\n",
       "      <td>17.00</td>\n",
       "      <td>2254.00</td>\n",
       "      <td>485.00</td>\n",
       "      <td>1007.00</td>\n",
       "      <td>433.00</td>\n",
       "      <td>1.70</td>\n",
       "      <td>11.43</td>\n",
       "      <td>inland</td>\n",
       "      <td>5.21</td>\n",
       "      <td>0.22</td>\n",
       "      <td>2.33</td>\n",
       "      <td>0</td>\n",
       "    </tr>\n",
       "    <tr>\n",
       "      <th>20638</th>\n",
       "      <td>39.43</td>\n",
       "      <td>-121.32</td>\n",
       "      <td>18.00</td>\n",
       "      <td>1860.00</td>\n",
       "      <td>409.00</td>\n",
       "      <td>741.00</td>\n",
       "      <td>349.00</td>\n",
       "      <td>1.87</td>\n",
       "      <td>11.35</td>\n",
       "      <td>inland</td>\n",
       "      <td>5.33</td>\n",
       "      <td>0.22</td>\n",
       "      <td>2.12</td>\n",
       "      <td>0</td>\n",
       "    </tr>\n",
       "    <tr>\n",
       "      <th>20639</th>\n",
       "      <td>39.37</td>\n",
       "      <td>-121.24</td>\n",
       "      <td>16.00</td>\n",
       "      <td>2785.00</td>\n",
       "      <td>616.00</td>\n",
       "      <td>1387.00</td>\n",
       "      <td>530.00</td>\n",
       "      <td>2.39</td>\n",
       "      <td>11.40</td>\n",
       "      <td>inland</td>\n",
       "      <td>5.25</td>\n",
       "      <td>0.22</td>\n",
       "      <td>2.62</td>\n",
       "      <td>0</td>\n",
       "    </tr>\n",
       "  </tbody>\n",
       "</table>\n",
       "<p>20640 rows × 14 columns</p>\n",
       "</div>"
      ],
      "text/plain": [
       "       latitude  longitude  housing_median_age  total_rooms  total_bedrooms  \\\n",
       "0         37.88    -122.23               41.00       880.00          129.00   \n",
       "1         37.86    -122.22               21.00      7099.00         1106.00   \n",
       "2         37.85    -122.24               52.00      1467.00          190.00   \n",
       "3         37.85    -122.25               52.00      1274.00          235.00   \n",
       "4         37.85    -122.25               52.00      1627.00          280.00   \n",
       "...         ...        ...                 ...          ...             ...   \n",
       "20635     39.48    -121.09               25.00      1665.00          374.00   \n",
       "20636     39.49    -121.21               18.00       697.00          150.00   \n",
       "20637     39.43    -121.22               17.00      2254.00          485.00   \n",
       "20638     39.43    -121.32               18.00      1860.00          409.00   \n",
       "20639     39.37    -121.24               16.00      2785.00          616.00   \n",
       "\n",
       "       population  households  median_income  median_house_value  \\\n",
       "0          322.00      126.00           8.33               13.02   \n",
       "1         2401.00     1138.00           8.30               12.79   \n",
       "2          496.00      177.00           7.26               12.77   \n",
       "3          558.00      219.00           5.64               12.74   \n",
       "4          565.00      259.00           3.85               12.74   \n",
       "...           ...         ...            ...                 ...   \n",
       "20635      845.00      330.00           1.56               11.27   \n",
       "20636      356.00      114.00           2.56               11.25   \n",
       "20637     1007.00      433.00           1.70               11.43   \n",
       "20638      741.00      349.00           1.87               11.35   \n",
       "20639     1387.00      530.00           2.39               11.40   \n",
       "\n",
       "      ocean_proximity  rooms_per_household  bedrooms_per_room  \\\n",
       "0            near_bay                 6.98               0.15   \n",
       "1            near_bay                 6.24               0.16   \n",
       "2            near_bay                 8.29               0.13   \n",
       "3            near_bay                 5.82               0.18   \n",
       "4            near_bay                 6.28               0.17   \n",
       "...               ...                  ...                ...   \n",
       "20635          inland                 5.05               0.22   \n",
       "20636          inland                 6.11               0.22   \n",
       "20637          inland                 5.21               0.22   \n",
       "20638          inland                 5.33               0.22   \n",
       "20639          inland                 5.25               0.22   \n",
       "\n",
       "       population_per_household  above_average  \n",
       "0                          2.56              1  \n",
       "1                          2.11              1  \n",
       "2                          2.80              1  \n",
       "3                          2.55              1  \n",
       "4                          2.18              1  \n",
       "...                         ...            ...  \n",
       "20635                      2.56              0  \n",
       "20636                      3.12              0  \n",
       "20637                      2.33              0  \n",
       "20638                      2.12              0  \n",
       "20639                      2.62              0  \n",
       "\n",
       "[20640 rows x 14 columns]"
      ]
     },
     "execution_count": 96,
     "metadata": {},
     "output_type": "execute_result"
    }
   ],
   "source": [
    "df"
   ]
  },
  {
   "cell_type": "code",
   "execution_count": 78,
   "id": "cf539e2c",
   "metadata": {},
   "outputs": [],
   "source": [
    "# SPLITTING THE DATASET:\n",
    "df_train_full, df_test = train_test_split(df, test_size=0.2, random_state=42)\n",
    "df_train, df_val = train_test_split(df_train_full, test_size=0.25, random_state=42)"
   ]
  },
  {
   "cell_type": "code",
   "execution_count": 79,
   "id": "e8f98744",
   "metadata": {},
   "outputs": [],
   "source": [
    "# PREPARING THE DATASET:\n",
    "df_train = df_train.reset_index(drop=True)\n",
    "df_val = df_val.reset_index(drop=True)\n",
    "df_test = df_test.reset_index(drop=True)"
   ]
  },
  {
   "cell_type": "code",
   "execution_count": 80,
   "id": "e8515216",
   "metadata": {},
   "outputs": [],
   "source": [
    "# PREPARING THE DATASET:\n",
    "y_train = df_train.median_house_value.values\n",
    "y_val = df_val.median_house_value.values\n",
    "y_test = df_test.median_house_value.values"
   ]
  },
  {
   "cell_type": "code",
   "execution_count": 81,
   "id": "a5d80b8b",
   "metadata": {},
   "outputs": [],
   "source": [
    "# DELETING DATASET:\n",
    "del df_train['median_house_value']\n",
    "del df_val['median_house_value']\n",
    "del df_test['median_house_value']"
   ]
  },
  {
   "cell_type": "markdown",
   "id": "918eb07e",
   "metadata": {},
   "source": [
    "# Ridgre regression:"
   ]
  },
  {
   "cell_type": "code",
   "execution_count": 82,
   "id": "9a111ca4",
   "metadata": {},
   "outputs": [],
   "source": [
    "#@ PREPARING THE DATASET:\n",
    "train_dict = df_train[categorical_cols + numeric_cols].to_dict(orient='records')"
   ]
  },
  {
   "cell_type": "code",
   "execution_count": 85,
   "id": "72596166",
   "metadata": {},
   "outputs": [],
   "source": [
    "# VECTORIZING THE DATASET:\n",
    "dv = DictVectorizer(sparse=False)\n",
    "dv.fit(train_dict)\n",
    "\n",
    "X_train = dv.transform(train_dict)\n",
    "\n",
    "val_dict = df_val[categorical_cols + numeric_cols].to_dict(orient='records')\n",
    "X_val = dv.transform(val_dict)"
   ]
  },
  {
   "cell_type": "code",
   "execution_count": 91,
   "id": "f3c51a59",
   "metadata": {},
   "outputs": [],
   "source": [
    "from sklearn.linear_model import ridge_regression,Ridge\n",
    "from sklearn.metrics import mean_squared_error"
   ]
  },
  {
   "cell_type": "code",
   "execution_count": 95,
   "id": "87141f16",
   "metadata": {},
   "outputs": [
    {
     "name": "stdout",
     "output_type": "stream",
     "text": [
      "0 0.524\n",
      "0.01 0.524\n",
      "0.1 0.524\n",
      "1 0.524\n",
      "10 0.524\n"
     ]
    }
   ],
   "source": [
    "# RIDGE REGRESSION IMPLEMENTATION:\n",
    "for a in [0, 0.01, 0.1, 1, 10]:\n",
    "    model = Ridge(alpha=a, solver=\"sag\", random_state=42)\n",
    "    model.fit(X_train, y_train)\n",
    "    \n",
    "    y_pred = model.predict(X_val)\n",
    "    \n",
    "    score = np.sqrt(mean_squared_error(y_val, y_pred))\n",
    "    \n",
    "    print(a, round(score, 3))"
   ]
  },
  {
   "cell_type": "code",
   "execution_count": null,
   "id": "d978509b",
   "metadata": {},
   "outputs": [],
   "source": []
  }
 ],
 "metadata": {
  "kernelspec": {
   "display_name": "Python [conda env:ML_Zoomcamp]",
   "language": "python",
   "name": "conda-env-ML_Zoomcamp-py"
  },
  "language_info": {
   "codemirror_mode": {
    "name": "ipython",
    "version": 3
   },
   "file_extension": ".py",
   "mimetype": "text/x-python",
   "name": "python",
   "nbconvert_exporter": "python",
   "pygments_lexer": "ipython3",
   "version": "3.8.0"
  }
 },
 "nbformat": 4,
 "nbformat_minor": 5
}
