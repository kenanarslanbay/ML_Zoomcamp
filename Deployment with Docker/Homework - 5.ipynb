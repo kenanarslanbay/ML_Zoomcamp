{
 "cells": [
  {
   "cell_type": "code",
   "execution_count": 4,
   "id": "22bedb5c",
   "metadata": {},
   "outputs": [
    {
     "data": {
      "text/html": [
       "<style>.container { width:99% !important; }</style>"
      ],
      "text/plain": [
       "<IPython.core.display.HTML object>"
      ]
     },
     "metadata": {},
     "output_type": "display_data"
    }
   ],
   "source": [
    "import pandas as pd\n",
    "import numpy as np\n",
    "\n",
    "from sklearn.feature_extraction import DictVectorizer\n",
    "from sklearn.linear_model import LogisticRegression\n",
    "\n",
    "from sklearn.model_selection import train_test_split\n",
    "from sklearn.metrics import roc_auc_score\n",
    "\n",
    "import warnings\n",
    "warnings.filterwarnings('ignore')\n",
    "\n",
    "# All plots can be displayed on notebooks:\n",
    "%matplotlib inline\n",
    "\n",
    "# Make better use of Jupyter Notebook cell width\n",
    "\n",
    "from IPython.core.display import display, HTML\n",
    "display(HTML(\"<style>.container { width:99% !important; }</style>\"))\n",
    "pd.options.display.float_format = '{:.2f}'.format"
   ]
  },
  {
   "cell_type": "markdown",
   "id": "e7c9644c",
   "metadata": {},
   "source": [
    "# Question 1\n",
    "\n",
    "- Install Pipenv\n",
    "- What's the version of pipenv you installed?\n",
    "- Use --version to find out"
   ]
  },
  {
   "cell_type": "code",
   "execution_count": 5,
   "id": "dea89052",
   "metadata": {
    "collapsed": true
   },
   "outputs": [
    {
     "name": "stdout",
     "output_type": "stream",
     "text": [
      "Collecting pipenv\n",
      "  Downloading pipenv-2022.11.5-py2.py3-none-any.whl (2.9 MB)\n",
      "\u001b[2K     \u001b[90m━━━━━━━━━━━━━━━━━━━━━━━━━━━━━━━━━━━━━━━━\u001b[0m \u001b[32m2.9/2.9 MB\u001b[0m \u001b[31m4.8 MB/s\u001b[0m eta \u001b[36m0:00:00\u001b[0m00:01\u001b[0m00:01\u001b[0m\n",
      "\u001b[?25hRequirement already satisfied: setuptools>=36.2.1 in /opt/anaconda3/envs/ML_Zoomcamp/lib/python3.8/site-packages (from pipenv) (65.5.0)\n",
      "Requirement already satisfied: certifi in /opt/anaconda3/envs/ML_Zoomcamp/lib/python3.8/site-packages (from pipenv) (2022.9.24)\n",
      "Collecting virtualenv-clone>=0.2.5\n",
      "  Using cached virtualenv_clone-0.5.7-py3-none-any.whl (6.6 kB)\n",
      "Collecting virtualenv\n",
      "  Downloading virtualenv-20.16.6-py3-none-any.whl (8.8 MB)\n",
      "\u001b[2K     \u001b[90m━━━━━━━━━━━━━━━━━━━━━━━━━━━━━━━━━━━━━━━━\u001b[0m \u001b[32m8.8/8.8 MB\u001b[0m \u001b[31m6.1 MB/s\u001b[0m eta \u001b[36m0:00:00\u001b[0m00:01\u001b[0m00:01\u001b[0mm\n",
      "\u001b[?25hCollecting distlib<1,>=0.3.6\n",
      "  Using cached distlib-0.3.6-py2.py3-none-any.whl (468 kB)\n",
      "Collecting platformdirs<3,>=2.4\n",
      "  Downloading platformdirs-2.5.3-py3-none-any.whl (14 kB)\n",
      "Collecting filelock<4,>=3.4.1\n",
      "  Using cached filelock-3.8.0-py3-none-any.whl (10 kB)\n",
      "Installing collected packages: distlib, virtualenv-clone, platformdirs, filelock, virtualenv, pipenv\n",
      "Successfully installed distlib-0.3.6 filelock-3.8.0 pipenv-2022.11.5 platformdirs-2.5.3 virtualenv-20.16.6 virtualenv-clone-0.5.7\n"
     ]
    }
   ],
   "source": [
    "!pip install pipenv"
   ]
  },
  {
   "cell_type": "code",
   "execution_count": 6,
   "id": "e48dc77b",
   "metadata": {},
   "outputs": [
    {
     "name": "stdout",
     "output_type": "stream",
     "text": [
      "\u001b[1mpipenv\u001b[0m, version 2022.11.5\n",
      "\u001b[0m"
     ]
    }
   ],
   "source": [
    "!pipenv --version"
   ]
  },
  {
   "cell_type": "markdown",
   "id": "cf4199b5",
   "metadata": {},
   "source": [
    "# Question 2\n",
    "- Use Pipenv to install Scikit-Learn version 1.0.2\n",
    "- What's the first hash for scikit-learn you get in Pipfile.lock?\n",
    "- Note: you should create an empty folder for homework and do it there."
   ]
  },
  {
   "cell_type": "code",
   "execution_count": 8,
   "id": "68d4518e",
   "metadata": {
    "collapsed": true
   },
   "outputs": [
    {
     "name": "stdout",
     "output_type": "stream",
     "text": [
      "\u001b[32m\u001b[1mInstalling scikit-learn==1.0.2...\u001b[0m\n",
      "\u001b[K\u001b[1mAdding\u001b[0m \u001b[32m\u001b[1mscikit-learn\u001b[0m \u001b[1mto Pipfile's\u001b[0m \u001b[33m\u001b[1m[packages]\u001b[0m\u001b[1m...\u001b[0m\n",
      "\u001b[K\u001b[?25h✔ Installation Succeeded\u001b[0m \n",
      "\u001b[1mPipfile.lock not found, creating...\u001b[0m\n",
      "Locking\u001b[0m \u001b[33m[packages]\u001b[0m dependencies...\u001b[0m\n",
      "\u001b[KBuilding requirements...\n",
      "\u001b[KResolving dependencies...\n",
      "\u001b[K\u001b[?25h\u001b[32m\u001b[22m✔ Success!\u001b[39m\u001b[22m\u001b[0m \n",
      "Locking\u001b[0m \u001b[33m[dev-packages]\u001b[0m dependencies...\u001b[0m\n",
      "\u001b[1mUpdated Pipfile.lock (c71abaddf023d2d7029f36beec9b8afb73c91860ff0002758fa66f8ea365dad0)!\u001b[0m\n",
      "\u001b[1mInstalling dependencies from Pipfile.lock (65dad0)...\u001b[0m\n",
      "To activate this project's virtualenv, run \u001b[33mpipenv shell\u001b[0m.\n",
      "Alternatively, run a command inside the virtualenv with \u001b[33mpipenv run\u001b[0m.\n",
      "\u001b[0m"
     ]
    }
   ],
   "source": [
    "!pipenv install scikit-learn==1.0.2"
   ]
  },
  {
   "cell_type": "markdown",
   "id": "d6133b98",
   "metadata": {},
   "source": [
    "# Question 3\n",
    "\n",
    "- Let's use these models!\n",
    "\n",
    "- Write a script for loading these models with pickle\n",
    "- Score this client:"
   ]
  },
  {
   "cell_type": "code",
   "execution_count": 12,
   "id": "d4c1dfb7",
   "metadata": {},
   "outputs": [],
   "source": [
    "import pickle \n",
    "\n",
    "def load(filename):\n",
    "    with open(filename, 'rb') as f_in:\n",
    "        return pickle.load(f_in)"
   ]
  },
  {
   "cell_type": "code",
   "execution_count": 16,
   "id": "c7edeb61",
   "metadata": {},
   "outputs": [],
   "source": [
    "dv = load('dv.bin')\n",
    "model = load('model1.bin')\n",
    "\n",
    "client = {\"reports\": 0, \"share\": 0.001694, \"expenditure\": 0.12, \"owner\": \"yes\"}\n",
    "\n",
    "X = dv.transform([client])\n",
    "y_pred = model.predict_proba(X)[0,1]"
   ]
  },
  {
   "cell_type": "code",
   "execution_count": 18,
   "id": "0478d445",
   "metadata": {},
   "outputs": [
    {
     "data": {
      "text/plain": [
       "0.16213414434326598"
      ]
     },
     "execution_count": 18,
     "metadata": {},
     "output_type": "execute_result"
    }
   ],
   "source": [
    "#probability that this client will get a credit card?\n",
    "y_pred"
   ]
  },
  {
   "cell_type": "markdown",
   "id": "9a253fe9",
   "metadata": {},
   "source": [
    "# Question 4\n",
    "\n",
    "- Now let's serve this model as a web service\n",
    "\n",
    "- Install Flask and gunicorn (or waitress, if you're on Windows)\n",
    "- Write Flask code for serving the model\n",
    "- Now score this client using requests:\n",
    "- url = \"YOUR_URL\"\n",
    "- client = {\"reports\": 0, \"share\": 0.245, \"expenditure\": 3.438, \"owner\": \"yes\"}\n",
    "- requests.post(url, json=client).json()\n",
    "- What's the probability that this client will get a credit card"
   ]
  },
  {
   "cell_type": "code",
   "execution_count": 19,
   "id": "f9681d6d",
   "metadata": {
    "collapsed": true
   },
   "outputs": [
    {
     "name": "stdout",
     "output_type": "stream",
     "text": [
      "\u001b[32m\u001b[1mInstalling flask...\u001b[0m\n",
      "\u001b[K\u001b[1mAdding\u001b[0m \u001b[32m\u001b[1mflask\u001b[0m \u001b[1mto Pipfile's\u001b[0m \u001b[33m\u001b[1m[packages]\u001b[0m\u001b[1m...\u001b[0m\n",
      "\u001b[K\u001b[?25h✔ Installation Succeeded\u001b[0m \n",
      "\u001b[33m\u001b[1mPipfile.lock (65dad0) out of date, updating to (3db960)...\u001b[0m\n",
      "Locking\u001b[0m \u001b[33m[packages]\u001b[0m dependencies...\u001b[0m\n",
      "\u001b[KBuilding requirements...\n",
      "\u001b[KResolving dependencies...\n",
      "\u001b[K\u001b[?25h\u001b[32m\u001b[22m✔ Success!\u001b[39m\u001b[22m\u001b[0m \n",
      "Locking\u001b[0m \u001b[33m[dev-packages]\u001b[0m dependencies...\u001b[0m\n",
      "\u001b[1mUpdated Pipfile.lock (8a607cd054c77add253b3926dfe9a7c6142096e72df3a548b7b4a959523db960)!\u001b[0m\n",
      "\u001b[1mInstalling dependencies from Pipfile.lock (3db960)...\u001b[0m\n",
      "To activate this project's virtualenv, run \u001b[33mpipenv shell\u001b[0m.\n",
      "Alternatively, run a command inside the virtualenv with \u001b[33mpipenv run\u001b[0m.\n",
      "\u001b[0m"
     ]
    }
   ],
   "source": [
    "!pipenv install flask"
   ]
  },
  {
   "cell_type": "code",
   "execution_count": 20,
   "id": "8222d1e2",
   "metadata": {
    "collapsed": true
   },
   "outputs": [
    {
     "name": "stdout",
     "output_type": "stream",
     "text": [
      "\u001b[32m\u001b[1mInstalling gunicorn...\u001b[0m\n",
      "\u001b[K\u001b[1mAdding\u001b[0m \u001b[32m\u001b[1mgunicorn\u001b[0m \u001b[1mto Pipfile's\u001b[0m \u001b[33m\u001b[1m[packages]\u001b[0m\u001b[1m...\u001b[0m\n",
      "\u001b[K\u001b[?25h✔ Installation Succeeded\u001b[0m \n",
      "\u001b[33m\u001b[1mPipfile.lock (3db960) out of date, updating to (b0a961)...\u001b[0m\n",
      "Locking\u001b[0m \u001b[33m[packages]\u001b[0m dependencies...\u001b[0m\n",
      "\u001b[KBuilding requirements...\n",
      "\u001b[KResolving dependencies...\n",
      "\u001b[K\u001b[?25h\u001b[32m\u001b[22m✔ Success!\u001b[39m\u001b[22m\u001b[0m \n",
      "Locking\u001b[0m \u001b[33m[dev-packages]\u001b[0m dependencies...\u001b[0m\n",
      "\u001b[1mUpdated Pipfile.lock (870144b5655fd9f58ae2d53dac36b52a25d66ce3f657776912c2ac027ab0a961)!\u001b[0m\n",
      "\u001b[1mInstalling dependencies from Pipfile.lock (b0a961)...\u001b[0m\n",
      "To activate this project's virtualenv, run \u001b[33mpipenv shell\u001b[0m.\n",
      "Alternatively, run a command inside the virtualenv with \u001b[33mpipenv run\u001b[0m.\n",
      "\u001b[0m"
     ]
    }
   ],
   "source": [
    "!pipenv install gunicorn"
   ]
  },
  {
   "cell_type": "markdown",
   "id": "6b9c72d4",
   "metadata": {},
   "source": [
    "# probability from test-q4:\n",
    "\n",
    "- {'get_card': True, 'get_card_probability': 0.9282218018527452}"
   ]
  },
  {
   "cell_type": "markdown",
   "id": "5a9293b8",
   "metadata": {},
   "source": [
    "# Docker\n",
    "\n",
    "- Install Docker. We will use it for the next two questions.\n",
    "\n",
    "- For these questions, we prepared a base image: svizor/zoomcamp-model:3.9.12-slim. You'll need to use it (see Question 5 for an example).\n",
    "\n",
    "- This image is based on python:3.9.12-slim and has a logistic regression model (a different one) as well a dictionary vectorizer inside.\n",
    "\n",
    "- This is how the Dockerfile for this image looks like:\n",
    "\n",
    "- FROM python:3.9.12-slim\n",
    "- WORKDIR /app\n",
    "- COPY [\"model2.bin\", \"dv.bin\", \"./\"]\n",
    "- We already built it and then pushed it to svizor/zoomcamp-model:3.9.12-slim.\n",
    "\n",
    "- Note: You don't need to build this docker image, it's just for your reference.\n",
    "\n",
    "- Question 5\n",
    "- Download the base image svizor/zoomcamp-model:3.9.12-slim. You can easily make it by using docker pull command.\n",
    "\n",
    "- So what's the size of this base image?\n",
    "\n",
    "- 15 Mb\n",
    "- 125 Mb\n",
    "- 275 Mb\n",
    "- 415 Mb\n",
    "- You can get this information when running docker images - it'll be in the \"SIZE\" column."
   ]
  },
  {
   "cell_type": "markdown",
   "id": "f5e6eb04",
   "metadata": {},
   "source": [
    "# Either we can check size of image that we downloaded with 'docker image ls' command or we can check images properties from docker-desktop\n",
    "\n",
    "- Answer is 125 Mb"
   ]
  },
  {
   "cell_type": "markdown",
   "id": "c86a13f5",
   "metadata": {},
   "source": [
    "# Dockerfile\n",
    "\n",
    "- Now create your own Dockerfile based on the image we prepared.\n",
    "\n",
    "- It should start like that:\n",
    "\n",
    "- FROM svizor/zoomcamp-model:3.9.12-slim\n",
    "\n",
    "\n",
    "- Now complete it:\n",
    "\n",
    "- Install all the dependencies form the Pipenv file\n",
    "- Copy your Flask script\n",
    "- Run it with Gunicorn\n",
    "- After that, you can build your docker image.\n",
    "\n"
   ]
  },
  {
   "cell_type": "code",
   "execution_count": null,
   "id": "68f1dc61",
   "metadata": {},
   "outputs": [],
   "source": []
  }
 ],
 "metadata": {
  "kernelspec": {
   "display_name": "Python [conda env:ML_Zoomcamp]",
   "language": "python",
   "name": "conda-env-ML_Zoomcamp-py"
  },
  "language_info": {
   "codemirror_mode": {
    "name": "ipython",
    "version": 3
   },
   "file_extension": ".py",
   "mimetype": "text/x-python",
   "name": "python",
   "nbconvert_exporter": "python",
   "pygments_lexer": "ipython3",
   "version": "3.8.0"
  }
 },
 "nbformat": 4,
 "nbformat_minor": 5
}
