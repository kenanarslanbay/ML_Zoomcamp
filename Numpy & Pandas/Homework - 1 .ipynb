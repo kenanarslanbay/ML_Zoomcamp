{
 "cells": [
  {
   "cell_type": "code",
   "execution_count": 1,
   "id": "c2b68545",
   "metadata": {},
   "outputs": [],
   "source": [
    "# Importing Librarires that already installed on terminal with pip:\n",
    "\n",
    "import pandas as pd\n",
    "import numpy as np\n",
    "import matplotlib as plt\n",
    "import seaborn as sns"
   ]
  },
  {
   "cell_type": "markdown",
   "id": "f63dd02a",
   "metadata": {},
   "source": [
    "# q1 and q2 answers:"
   ]
  },
  {
   "cell_type": "code",
   "execution_count": 11,
   "id": "903121f6",
   "metadata": {},
   "outputs": [
    {
     "name": "stdout",
     "output_type": "stream",
     "text": [
      "1.23.2\n",
      "1.4.3\n"
     ]
    }
   ],
   "source": [
    "# Version check:\n",
    "print(np.__version__)\n",
    "print(pd.__version__)"
   ]
  },
  {
   "cell_type": "code",
   "execution_count": 12,
   "id": "88146f27",
   "metadata": {},
   "outputs": [
    {
     "name": "stdout",
     "output_type": "stream",
     "text": [
      "--2022-08-30 14:38:58--  https://raw.githubusercontent.com/alexeygrigorev/mlbookcamp-code/master/chapter-02-car-price/data.csv\n",
      "Resolving raw.githubusercontent.com (raw.githubusercontent.com)... 185.199.110.133, 185.199.108.133, 185.199.111.133, ...\n",
      "Connecting to raw.githubusercontent.com (raw.githubusercontent.com)|185.199.110.133|:443... connected.\n",
      "HTTP request sent, awaiting response... 200 OK\n",
      "Length: 1475504 (1,4M) [text/plain]\n",
      "Saving to: ‘data.csv’\n",
      "\n",
      "data.csv            100%[===================>]   1,41M  4,88MB/s    in 0,3s    \n",
      "\n",
      "2022-08-30 14:38:59 (4,88 MB/s) - ‘data.csv’ saved [1475504/1475504]\n",
      "\n"
     ]
    }
   ],
   "source": [
    "# Download the data:\n",
    "\n",
    "!wget https://raw.githubusercontent.com/alexeygrigorev/mlbookcamp-code/master/chapter-02-car-price/data.csv"
   ]
  },
  {
   "cell_type": "code",
   "execution_count": 53,
   "id": "316b2f0a",
   "metadata": {},
   "outputs": [],
   "source": [
    "df = pd.read_csv('data.csv')"
   ]
  },
  {
   "cell_type": "code",
   "execution_count": 54,
   "id": "e056f972",
   "metadata": {},
   "outputs": [
    {
     "data": {
      "text/html": [
       "<div>\n",
       "<style scoped>\n",
       "    .dataframe tbody tr th:only-of-type {\n",
       "        vertical-align: middle;\n",
       "    }\n",
       "\n",
       "    .dataframe tbody tr th {\n",
       "        vertical-align: top;\n",
       "    }\n",
       "\n",
       "    .dataframe thead th {\n",
       "        text-align: right;\n",
       "    }\n",
       "</style>\n",
       "<table border=\"1\" class=\"dataframe\">\n",
       "  <thead>\n",
       "    <tr style=\"text-align: right;\">\n",
       "      <th></th>\n",
       "      <th>Make</th>\n",
       "      <th>Model</th>\n",
       "      <th>Year</th>\n",
       "      <th>Engine Fuel Type</th>\n",
       "      <th>Engine HP</th>\n",
       "      <th>Engine Cylinders</th>\n",
       "      <th>Transmission Type</th>\n",
       "      <th>Driven_Wheels</th>\n",
       "      <th>Number of Doors</th>\n",
       "      <th>Market Category</th>\n",
       "      <th>Vehicle Size</th>\n",
       "      <th>Vehicle Style</th>\n",
       "      <th>highway MPG</th>\n",
       "      <th>city mpg</th>\n",
       "      <th>Popularity</th>\n",
       "      <th>MSRP</th>\n",
       "    </tr>\n",
       "  </thead>\n",
       "  <tbody>\n",
       "    <tr>\n",
       "      <th>0</th>\n",
       "      <td>BMW</td>\n",
       "      <td>1 Series M</td>\n",
       "      <td>2011</td>\n",
       "      <td>premium unleaded (required)</td>\n",
       "      <td>335.0</td>\n",
       "      <td>6.0</td>\n",
       "      <td>MANUAL</td>\n",
       "      <td>rear wheel drive</td>\n",
       "      <td>2.0</td>\n",
       "      <td>Factory Tuner,Luxury,High-Performance</td>\n",
       "      <td>Compact</td>\n",
       "      <td>Coupe</td>\n",
       "      <td>26</td>\n",
       "      <td>19</td>\n",
       "      <td>3916</td>\n",
       "      <td>46135</td>\n",
       "    </tr>\n",
       "    <tr>\n",
       "      <th>1</th>\n",
       "      <td>BMW</td>\n",
       "      <td>1 Series</td>\n",
       "      <td>2011</td>\n",
       "      <td>premium unleaded (required)</td>\n",
       "      <td>300.0</td>\n",
       "      <td>6.0</td>\n",
       "      <td>MANUAL</td>\n",
       "      <td>rear wheel drive</td>\n",
       "      <td>2.0</td>\n",
       "      <td>Luxury,Performance</td>\n",
       "      <td>Compact</td>\n",
       "      <td>Convertible</td>\n",
       "      <td>28</td>\n",
       "      <td>19</td>\n",
       "      <td>3916</td>\n",
       "      <td>40650</td>\n",
       "    </tr>\n",
       "    <tr>\n",
       "      <th>2</th>\n",
       "      <td>BMW</td>\n",
       "      <td>1 Series</td>\n",
       "      <td>2011</td>\n",
       "      <td>premium unleaded (required)</td>\n",
       "      <td>300.0</td>\n",
       "      <td>6.0</td>\n",
       "      <td>MANUAL</td>\n",
       "      <td>rear wheel drive</td>\n",
       "      <td>2.0</td>\n",
       "      <td>Luxury,High-Performance</td>\n",
       "      <td>Compact</td>\n",
       "      <td>Coupe</td>\n",
       "      <td>28</td>\n",
       "      <td>20</td>\n",
       "      <td>3916</td>\n",
       "      <td>36350</td>\n",
       "    </tr>\n",
       "    <tr>\n",
       "      <th>3</th>\n",
       "      <td>BMW</td>\n",
       "      <td>1 Series</td>\n",
       "      <td>2011</td>\n",
       "      <td>premium unleaded (required)</td>\n",
       "      <td>230.0</td>\n",
       "      <td>6.0</td>\n",
       "      <td>MANUAL</td>\n",
       "      <td>rear wheel drive</td>\n",
       "      <td>2.0</td>\n",
       "      <td>Luxury,Performance</td>\n",
       "      <td>Compact</td>\n",
       "      <td>Coupe</td>\n",
       "      <td>28</td>\n",
       "      <td>18</td>\n",
       "      <td>3916</td>\n",
       "      <td>29450</td>\n",
       "    </tr>\n",
       "    <tr>\n",
       "      <th>4</th>\n",
       "      <td>BMW</td>\n",
       "      <td>1 Series</td>\n",
       "      <td>2011</td>\n",
       "      <td>premium unleaded (required)</td>\n",
       "      <td>230.0</td>\n",
       "      <td>6.0</td>\n",
       "      <td>MANUAL</td>\n",
       "      <td>rear wheel drive</td>\n",
       "      <td>2.0</td>\n",
       "      <td>Luxury</td>\n",
       "      <td>Compact</td>\n",
       "      <td>Convertible</td>\n",
       "      <td>28</td>\n",
       "      <td>18</td>\n",
       "      <td>3916</td>\n",
       "      <td>34500</td>\n",
       "    </tr>\n",
       "  </tbody>\n",
       "</table>\n",
       "</div>"
      ],
      "text/plain": [
       "  Make       Model  Year             Engine Fuel Type  Engine HP  \\\n",
       "0  BMW  1 Series M  2011  premium unleaded (required)      335.0   \n",
       "1  BMW    1 Series  2011  premium unleaded (required)      300.0   \n",
       "2  BMW    1 Series  2011  premium unleaded (required)      300.0   \n",
       "3  BMW    1 Series  2011  premium unleaded (required)      230.0   \n",
       "4  BMW    1 Series  2011  premium unleaded (required)      230.0   \n",
       "\n",
       "   Engine Cylinders Transmission Type     Driven_Wheels  Number of Doors  \\\n",
       "0               6.0            MANUAL  rear wheel drive              2.0   \n",
       "1               6.0            MANUAL  rear wheel drive              2.0   \n",
       "2               6.0            MANUAL  rear wheel drive              2.0   \n",
       "3               6.0            MANUAL  rear wheel drive              2.0   \n",
       "4               6.0            MANUAL  rear wheel drive              2.0   \n",
       "\n",
       "                         Market Category Vehicle Size Vehicle Style  \\\n",
       "0  Factory Tuner,Luxury,High-Performance      Compact         Coupe   \n",
       "1                     Luxury,Performance      Compact   Convertible   \n",
       "2                Luxury,High-Performance      Compact         Coupe   \n",
       "3                     Luxury,Performance      Compact         Coupe   \n",
       "4                                 Luxury      Compact   Convertible   \n",
       "\n",
       "   highway MPG  city mpg  Popularity   MSRP  \n",
       "0           26        19        3916  46135  \n",
       "1           28        19        3916  40650  \n",
       "2           28        20        3916  36350  \n",
       "3           28        18        3916  29450  \n",
       "4           28        18        3916  34500  "
      ]
     },
     "execution_count": 54,
     "metadata": {},
     "output_type": "execute_result"
    }
   ],
   "source": [
    "df.head()"
   ]
  },
  {
   "cell_type": "code",
   "execution_count": 55,
   "id": "61dbd00d",
   "metadata": {},
   "outputs": [],
   "source": [
    "# Extra:\n",
    "df.columns = df.columns.str.replace(' ','_')\n",
    "df = df.round(2)"
   ]
  },
  {
   "cell_type": "markdown",
   "id": "0d72944f",
   "metadata": {},
   "source": [
    "# Question 3: What's the average price of BMW cars in the dataset?"
   ]
  },
  {
   "cell_type": "code",
   "execution_count": 56,
   "id": "fdcdabd2",
   "metadata": {},
   "outputs": [
    {
     "data": {
      "text/plain": [
       "61546.76"
      ]
     },
     "execution_count": 56,
     "metadata": {},
     "output_type": "execute_result"
    }
   ],
   "source": [
    "df[df['Make'] == 'BMW']['MSRP'].mean().round(2)"
   ]
  },
  {
   "cell_type": "markdown",
   "id": "136a9957",
   "metadata": {},
   "source": [
    "# Question 4: Select a subset of cars after year 2015 (inclusive, i.e. 2015 and after). How many of them have missing values for Engine HP?"
   ]
  },
  {
   "cell_type": "code",
   "execution_count": 57,
   "id": "37c328d0",
   "metadata": {},
   "outputs": [
    {
     "data": {
      "text/plain": [
       "51"
      ]
     },
     "execution_count": 57,
     "metadata": {},
     "output_type": "execute_result"
    }
   ],
   "source": [
    "df.loc[df['Year']>=2015]['Engine_HP'].isnull().sum()"
   ]
  },
  {
   "cell_type": "markdown",
   "id": "29d0bf0f",
   "metadata": {},
   "source": [
    "# Question 5: Calculate the average \"Engine HP\" in the dataset.Use the fillna method and to fill the missing values in \"Engine HP\" with the mean value from the previous step.Now, calcualte the average of \"Engine HP\" again. Has it changed?"
   ]
  },
  {
   "cell_type": "code",
   "execution_count": 58,
   "id": "927a6711",
   "metadata": {},
   "outputs": [
    {
     "data": {
      "text/plain": [
       "249.39"
      ]
     },
     "execution_count": 58,
     "metadata": {},
     "output_type": "execute_result"
    }
   ],
   "source": [
    "# Avg 'Engine hp':\n",
    "df['Engine_HP'].mean().round(2)"
   ]
  },
  {
   "cell_type": "code",
   "execution_count": 59,
   "id": "fce532f0",
   "metadata": {},
   "outputs": [
    {
     "data": {
      "text/plain": [
       "0"
      ]
     },
     "execution_count": 59,
     "metadata": {},
     "output_type": "execute_result"
    }
   ],
   "source": [
    "df['Engine_HP'] = df['Engine_HP'].fillna(df['Engine_HP'].mean())\n",
    "df['Engine_HP'].isnull().sum()"
   ]
  },
  {
   "cell_type": "code",
   "execution_count": 62,
   "id": "c2dfde78",
   "metadata": {},
   "outputs": [
    {
     "data": {
      "text/plain": [
       "249.39"
      ]
     },
     "execution_count": 62,
     "metadata": {},
     "output_type": "execute_result"
    }
   ],
   "source": [
    "df['Engine_HP'].mean().round(2)"
   ]
  },
  {
   "cell_type": "markdown",
   "id": "ac6d6465",
   "metadata": {},
   "source": [
    "# Question 6 Select all the \"Rolls-Royce\" cars from the dataset.Select only columns \"Engine HP\", \"Engine Cylinders\", \"highway MPG\".Now drop all duplicated rows using drop_duplicates method (you should get a dataframe with 7 rows).Get the underlying NumPy array. Let's call it X.Compute matrix-matrix multiplication between the transpose of X and X. To get the transpose, use X.T. Let's call the result XTX.Invert XTX.What's the sum of all the elements of the result?Hint: if the result is negative, re-read the task one more time"
   ]
  },
  {
   "cell_type": "code",
   "execution_count": 70,
   "id": "ac59a557",
   "metadata": {},
   "outputs": [],
   "source": [
    "df_new = df[df['Make']=='Rolls-Royce'].filter(['Engine_HP','Engine_Cylinders','highway_MPG'],axis=1)"
   ]
  },
  {
   "cell_type": "code",
   "execution_count": 71,
   "id": "c54ece32",
   "metadata": {},
   "outputs": [],
   "source": [
    "# Dropping duplicates:\n",
    "\n",
    "df_new = df_new.drop_duplicates()"
   ]
  },
  {
   "cell_type": "code",
   "execution_count": 73,
   "id": "0e519a72",
   "metadata": {},
   "outputs": [],
   "source": [
    "df_new = df_new.reset_index(drop='firt')"
   ]
  },
  {
   "cell_type": "code",
   "execution_count": 106,
   "id": "91dc70bd",
   "metadata": {},
   "outputs": [],
   "source": [
    "df_new = df_new.astype('int')"
   ]
  },
  {
   "cell_type": "code",
   "execution_count": 115,
   "id": "41a8ed51",
   "metadata": {},
   "outputs": [
    {
     "data": {
      "text/html": [
       "<div>\n",
       "<style scoped>\n",
       "    .dataframe tbody tr th:only-of-type {\n",
       "        vertical-align: middle;\n",
       "    }\n",
       "\n",
       "    .dataframe tbody tr th {\n",
       "        vertical-align: top;\n",
       "    }\n",
       "\n",
       "    .dataframe thead th {\n",
       "        text-align: right;\n",
       "    }\n",
       "</style>\n",
       "<table border=\"1\" class=\"dataframe\">\n",
       "  <thead>\n",
       "    <tr style=\"text-align: right;\">\n",
       "      <th></th>\n",
       "      <th>Engine_HP</th>\n",
       "      <th>Engine_Cylinders</th>\n",
       "      <th>highway_MPG</th>\n",
       "    </tr>\n",
       "  </thead>\n",
       "  <tbody>\n",
       "    <tr>\n",
       "      <th>0</th>\n",
       "      <td>325</td>\n",
       "      <td>8</td>\n",
       "      <td>15</td>\n",
       "    </tr>\n",
       "    <tr>\n",
       "      <th>1</th>\n",
       "      <td>563</td>\n",
       "      <td>12</td>\n",
       "      <td>19</td>\n",
       "    </tr>\n",
       "    <tr>\n",
       "      <th>2</th>\n",
       "      <td>563</td>\n",
       "      <td>12</td>\n",
       "      <td>21</td>\n",
       "    </tr>\n",
       "    <tr>\n",
       "      <th>3</th>\n",
       "      <td>563</td>\n",
       "      <td>12</td>\n",
       "      <td>20</td>\n",
       "    </tr>\n",
       "    <tr>\n",
       "      <th>4</th>\n",
       "      <td>322</td>\n",
       "      <td>12</td>\n",
       "      <td>15</td>\n",
       "    </tr>\n",
       "    <tr>\n",
       "      <th>5</th>\n",
       "      <td>453</td>\n",
       "      <td>12</td>\n",
       "      <td>19</td>\n",
       "    </tr>\n",
       "    <tr>\n",
       "      <th>6</th>\n",
       "      <td>624</td>\n",
       "      <td>12</td>\n",
       "      <td>21</td>\n",
       "    </tr>\n",
       "  </tbody>\n",
       "</table>\n",
       "</div>"
      ],
      "text/plain": [
       "   Engine_HP  Engine_Cylinders  highway_MPG\n",
       "0        325                 8           15\n",
       "1        563                12           19\n",
       "2        563                12           21\n",
       "3        563                12           20\n",
       "4        322                12           15\n",
       "5        453                12           19\n",
       "6        624                12           21"
      ]
     },
     "execution_count": 115,
     "metadata": {},
     "output_type": "execute_result"
    }
   ],
   "source": [
    "df_new"
   ]
  },
  {
   "cell_type": "code",
   "execution_count": 108,
   "id": "b9a7a5a6",
   "metadata": {},
   "outputs": [],
   "source": [
    "#creating array:\n",
    "X = df_new.values"
   ]
  },
  {
   "cell_type": "code",
   "execution_count": 109,
   "id": "aaca8a4c",
   "metadata": {},
   "outputs": [
    {
     "data": {
      "text/plain": [
       "array([[325,   8,  15],\n",
       "       [563,  12,  19],\n",
       "       [563,  12,  21],\n",
       "       [563,  12,  20],\n",
       "       [322,  12,  15],\n",
       "       [453,  12,  19],\n",
       "       [624,  12,  21]])"
      ]
     },
     "execution_count": 109,
     "metadata": {},
     "output_type": "execute_result"
    }
   ],
   "source": [
    "X"
   ]
  },
  {
   "cell_type": "code",
   "execution_count": 110,
   "id": "11e15efd",
   "metadata": {},
   "outputs": [
    {
     "data": {
      "text/plain": [
       "array([[325, 563, 563, 563, 322, 453, 624],\n",
       "       [  8,  12,  12,  12,  12,  12,  12],\n",
       "       [ 15,  19,  21,  20,  15,  19,  21]])"
      ]
     },
     "execution_count": 110,
     "metadata": {},
     "output_type": "execute_result"
    }
   ],
   "source": [
    "# Transpose\n",
    "Y = X.T\n",
    "Y"
   ]
  },
  {
   "cell_type": "code",
   "execution_count": 123,
   "id": "ee2a6756",
   "metadata": {},
   "outputs": [
    {
     "data": {
      "text/plain": [
       "array([[325, 563, 563, 563, 322, 453, 624],\n",
       "       [  8,  12,  12,  12,  12,  12,  12],\n",
       "       [ 15,  19,  21,  20,  15,  19,  21]])"
      ]
     },
     "execution_count": 123,
     "metadata": {},
     "output_type": "execute_result"
    }
   ],
   "source": [
    "Y"
   ]
  },
  {
   "cell_type": "code",
   "execution_count": 120,
   "id": "dce7ecc5",
   "metadata": {},
   "outputs": [],
   "source": [
    "XTX = X.T.dot(X)"
   ]
  },
  {
   "cell_type": "code",
   "execution_count": 122,
   "id": "023f9f7d",
   "metadata": {},
   "outputs": [
    {
     "data": {
      "text/plain": [
       "0.032212320677486125"
      ]
     },
     "execution_count": 122,
     "metadata": {},
     "output_type": "execute_result"
    }
   ],
   "source": [
    "# Inverse of XTX:\n",
    "inv_XTX = np.linalg.inv(XTX)\n",
    "inv_XTX.sum()"
   ]
  },
  {
   "cell_type": "markdown",
   "id": "3b7472a1",
   "metadata": {},
   "source": [
    "# Questions 7: Create an array y with values [1000, 1100, 900, 1200, 1000, 850, 1300].Multiply the inverse of XTX with the transpose of X, and then multiply the result by y. Call the result w. What's the value of the first element of w?."
   ]
  },
  {
   "cell_type": "code",
   "execution_count": 126,
   "id": "f1dd0fc1",
   "metadata": {},
   "outputs": [],
   "source": [
    "y = np.array([1000, 1100, 900, 1200, 1000, 850, 1300])\n",
    "\n",
    "w = inv_XTX.dot(Y).dot(y)"
   ]
  },
  {
   "cell_type": "code",
   "execution_count": 127,
   "id": "78283e03",
   "metadata": {},
   "outputs": [
    {
     "data": {
      "text/plain": [
       "0.19989598183188972"
      ]
     },
     "execution_count": 127,
     "metadata": {},
     "output_type": "execute_result"
    }
   ],
   "source": [
    "w[0]"
   ]
  },
  {
   "cell_type": "code",
   "execution_count": null,
   "id": "fea32963",
   "metadata": {},
   "outputs": [],
   "source": []
  }
 ],
 "metadata": {
  "kernelspec": {
   "display_name": "Python [conda env:ML_Zoomcamp]",
   "language": "python",
   "name": "conda-env-ML_Zoomcamp-py"
  },
  "language_info": {
   "codemirror_mode": {
    "name": "ipython",
    "version": 3
   },
   "file_extension": ".py",
   "mimetype": "text/x-python",
   "name": "python",
   "nbconvert_exporter": "python",
   "pygments_lexer": "ipython3",
   "version": "3.9.13"
  }
 },
 "nbformat": 4,
 "nbformat_minor": 5
}
