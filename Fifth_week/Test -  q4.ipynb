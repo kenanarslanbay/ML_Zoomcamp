{
 "cells": [
  {
   "cell_type": "markdown",
   "id": "34b18fa3",
   "metadata": {},
   "source": [
    "# After we make a connection with gunicorn we can run the code to below:\n",
    "\n",
    "1) pip install gunicorn\n",
    "2) gunicorn --bind 0.0.0.0:9898 predict: q4_predict:app"
   ]
  },
  {
   "cell_type": "code",
   "execution_count": 6,
   "id": "3929109d",
   "metadata": {},
   "outputs": [
    {
     "data": {
      "text/plain": [
       "{'get_card': True, 'get_card_probability': 0.9282218018527452}"
      ]
     },
     "execution_count": 6,
     "metadata": {},
     "output_type": "execute_result"
    }
   ],
   "source": [
    "import requests\n",
    "\n",
    "url = 'http://localhost:9898/predict'\n",
    "client = {\"reports\": 0, \"share\": 0.245, \"expenditure\": 3.438, \"owner\": \"yes\"}\n",
    "\n",
    "response = requests.post(url, json=client)\n",
    "result = response.json()\n",
    "result"
   ]
  },
  {
   "cell_type": "code",
   "execution_count": null,
   "id": "a5e5b4dd",
   "metadata": {},
   "outputs": [],
   "source": []
  }
 ],
 "metadata": {
  "kernelspec": {
   "display_name": "Python [conda env:ML_Zoomcamp]",
   "language": "python",
   "name": "conda-env-ML_Zoomcamp-py"
  },
  "language_info": {
   "codemirror_mode": {
    "name": "ipython",
    "version": 3
   },
   "file_extension": ".py",
   "mimetype": "text/x-python",
   "name": "python",
   "nbconvert_exporter": "python",
   "pygments_lexer": "ipython3",
   "version": "3.8.13"
  }
 },
 "nbformat": 4,
 "nbformat_minor": 5
}
